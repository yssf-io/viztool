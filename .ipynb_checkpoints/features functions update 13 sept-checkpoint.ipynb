{
 "cells": [
  {
   "cell_type": "code",
   "execution_count": 105,
   "metadata": {},
   "outputs": [],
   "source": [
    "from __future__ import absolute_import, division\n",
    "\n",
    "import itertools\n",
    "from builtins import range\n",
    "\n",
    "import numpy as np\n",
    "import pandas as pd\n",
    "from numpy.linalg import LinAlgError\n",
    "from scipy.signal import cwt, find_peaks_cwt, ricker, welch\n",
    "from scipy.stats import linregress\n",
    "from statsmodels.tools.sm_exceptions import MissingDataError\n",
    "from statsmodels.tsa.ar_model import AR\n",
    "from statsmodels.tsa.stattools import acf, adfuller, pacf\n",
    "from statsmodels.graphics.tsaplots import plot_pacf, plot_acf\n",
    "import matplotlib.pylab as plt\n",
    "import numpy as np\n",
    "import matplotlib.pyplot as plt\n",
    "from hurst import compute_Hc, random_walk\n",
    "import matplotlib.pyplot as plt"
   ]
  },
  {
   "cell_type": "markdown",
   "metadata": {},
   "source": [
    "## Aid function"
   ]
  },
  {
   "cell_type": "code",
   "execution_count": 43,
   "metadata": {},
   "outputs": [],
   "source": [
    "def _roll(a, shift):\n",
    "    \"\"\"\n",
    "    Roll 1D array elements. Improves the performance of numpy.roll() by reducing the overhead introduced from the \n",
    "    flexibility of the numpy.roll() method such as the support for rolling over multiple dimensions. \n",
    "    \n",
    "    Elements that roll beyond the last position are re-introduced at the beginning. Similarly, elements that roll\n",
    "    back beyond the first position are re-introduced at the end (with negative shift).\n",
    "    \n",
    "    Examples\n",
    "    --------\n",
    "    >>> x = np.array([0, 1, 2, 3, 4, 5, 6, 7, 8, 9])\n",
    "    >>> _roll(x, shift=2)\n",
    "    >>> array([8, 9, 0, 1, 2, 3, 4, 5, 6, 7])\n",
    "    \n",
    "    >>> x = np.array([0, 1, 2, 3, 4, 5, 6, 7, 8, 9])\n",
    "    >>> _roll(x, shift=-2)\n",
    "    >>> array([2, 3, 4, 5, 6, 7, 8, 9, 0, 1])\n",
    "    \n",
    "    >>> x = np.array([0, 1, 2, 3, 4, 5, 6, 7, 8, 9])\n",
    "    >>> _roll(x, shift=12)\n",
    "    >>> array([8, 9, 0, 1, 2, 3, 4, 5, 6, 7])\n",
    "    \n",
    "    Benchmark\n",
    "    ---------\n",
    "    >>> x = np.array([0, 1, 2, 3, 4, 5, 6, 7, 8, 9])\n",
    "    >>> %timeit _roll(x, shift=2)\n",
    "    >>> 1.89 µs ± 341 ns per loop (mean ± std. dev. of 7 runs, 100000 loops each)\n",
    "    \n",
    "    >>> x = np.array([0, 1, 2, 3, 4, 5, 6, 7, 8, 9])\n",
    "    >>> %timeit np.roll(x, shift=2)\n",
    "    >>> 11.4 µs ± 776 ns per loop (mean ± std. dev. of 7 runs, 100000 loops each)\n",
    "    \n",
    "    :param a: the input array\n",
    "    :type a: array_like\n",
    "    :param shift: the number of places by which elements are shifted\n",
    "    :type shift: int\n",
    "\n",
    "    :return: shifted array with the same shape as a\n",
    "    :return type: ndarray\n",
    "    \"\"\"\n",
    "    if not isinstance(a, np.ndarray):\n",
    "        a = np.asarray(a)\n",
    "    idx = shift % len(a)\n",
    "    return np.concatenate([a[-idx:], a[:-idx]])\n",
    "\n",
    "def _get_length_sequences_where(x):\n",
    "    \"\"\"\n",
    "    This method calculates the length of all sub-sequences where the array x is either True or 1.\n",
    "\n",
    "    Examples\n",
    "    --------\n",
    "    >>> x = [0,1,0,0,1,1,1,0,0,1,0,1,1]\n",
    "    >>> _get_length_sequences_where(x)\n",
    "    >>> [1, 3, 1, 2]\n",
    "\n",
    "    >>> x = [0,True,0,0,True,True,True,0,0,True,0,True,True]\n",
    "    >>> _get_length_sequences_where(x)\n",
    "    >>> [1, 3, 1, 2]\n",
    "\n",
    "    >>> x = [0,True,0,0,1,True,1,0,0,True,0,1,True]\n",
    "    >>> _get_length_sequences_where(x)\n",
    "    >>> [1, 3, 1, 2]\n",
    "\n",
    "    :param x: An iterable containing only 1, True, 0 and False values\n",
    "    :return: A list with the length of all sub-sequences where the array is either True or False. If no ones or Trues\n",
    "    contained, the list [0] is returned.\n",
    "    \"\"\"\n",
    "    if len(x) == 0:\n",
    "        return [0]\n",
    "    else:\n",
    "        res = [len(list(group)) for value, group in itertools.groupby(x) if value == 1]\n",
    "        return res if len(res) > 0 else [0]"
   ]
  },
  {
   "cell_type": "code",
   "execution_count": 22,
   "metadata": {},
   "outputs": [],
   "source": [
    "param = [{\"k\": 1, \"coeff\": 0}, {\"k\": 1, \"coeff\": 1},\n",
    "                 {\"k\": 2, \"coeff\": 0}, {\"k\": 2, \"coeff\": 1}, {\"k\": 2, \"coeff\": 2}, {\"k\": 2, \"coeff\": 3}]"
   ]
  },
  {
   "cell_type": "code",
   "execution_count": 23,
   "metadata": {},
   "outputs": [
    {
     "data": {
      "text/plain": [
       "[('k_1__coeff_0', nan),\n",
       " ('k_1__coeff_1', 0),\n",
       " ('k_2__coeff_0', nan),\n",
       " ('k_2__coeff_1', nan),\n",
       " ('k_2__coeff_2', 0),\n",
       " ('k_2__coeff_3', nan)]"
      ]
     },
     "execution_count": 23,
     "metadata": {},
     "output_type": "execute_result"
    }
   ],
   "source": [
    "ar_coefficient(x, param)"
   ]
  },
  {
   "cell_type": "code",
   "execution_count": 31,
   "metadata": {},
   "outputs": [],
   "source": [
    "x = [1, 1] + 5 * [0]\n",
    "for i in range(2, len(x)):\n",
    "            x[i] = (-2) * x[i - 2] + 3.5 * x[i - 1] + 1"
   ]
  },
  {
   "cell_type": "code",
   "execution_count": 26,
   "metadata": {},
   "outputs": [
    {
     "data": {
      "text/plain": [
       "[1, 1, 2.5, 7.75, 23.125, 66.4375, 187.28125]"
      ]
     },
     "execution_count": 26,
     "metadata": {},
     "output_type": "execute_result"
    }
   ],
   "source": [
    "x"
   ]
  },
  {
   "cell_type": "code",
   "execution_count": 23,
   "metadata": {},
   "outputs": [],
   "source": [
    "x = [1,0] + 5 * [0]\n",
    "for i in range(2, len(x)):\n",
    "            x[i] =  2.824952929252266 * x[i - 1] + 0.07970498175060214"
   ]
  },
  {
   "cell_type": "code",
   "execution_count": 24,
   "metadata": {},
   "outputs": [
    {
     "data": {
      "text/plain": [
       "[1,\n",
       " 0,\n",
       " 0.07970498175060214,\n",
       " 0.30486780342296405,\n",
       " 0.9409421760650084,\n",
       " 2.737822338282449,\n",
       " 7.813924216053895]"
      ]
     },
     "execution_count": 24,
     "metadata": {},
     "output_type": "execute_result"
    }
   ],
   "source": [
    "x"
   ]
  },
  {
   "cell_type": "code",
   "execution_count": 1,
   "metadata": {},
   "outputs": [],
   "source": [
    "param = [{\"k\": 2, \"coeff\": 0}, {\"k\": 2, \"coeff\": 1}, {\"k\": 2, \"coeff\": 2}]"
   ]
  },
  {
   "cell_type": "code",
   "execution_count": 34,
   "metadata": {},
   "outputs": [],
   "source": [
    "param= [{'k': 2, 'coeff': 0},\n",
    " {'k': 2, 'coeff': 1},\n",
    " {'k': 2, 'coeff': 2}]"
   ]
  },
  {
   "cell_type": "code",
   "execution_count": 35,
   "metadata": {},
   "outputs": [
    {
     "data": {
      "text/plain": [
       "[('k_2__coeff_0', 1.0),\n",
       " ('k_2__coeff_1', 3.4999999999999964),\n",
       " ('k_2__coeff_2', -2.0)]"
      ]
     },
     "execution_count": 35,
     "metadata": {},
     "output_type": "execute_result"
    }
   ],
   "source": [
    "ar_coefficient(x, param)"
   ]
  },
  {
   "cell_type": "code",
   "execution_count": null,
   "metadata": {},
   "outputs": [],
   "source": [
    "[{\"f_agg\": s, \"maxlag\": 40} for s in [\"mean\", \"median\", \"var\"]"
   ]
  },
  {
   "cell_type": "code",
   "execution_count": 12,
   "metadata": {},
   "outputs": [
    {
     "name": "stdout",
     "output_type": "stream",
     "text": [
      "\n",
      "\n",
      "Db sucessfully saved and closed\n"
     ]
    }
   ],
   "source": [
    "from datetime import datetime, date\n",
    "from joblib import Parallel, delayed\n",
    "import pandas as pd\n",
    "import numpy as np\n",
    "from multiprocessing import Manager\n",
    "\n",
    "from backtests.utils.period import Period\n",
    "import backtests.utils.db as dbm\n",
    "import backtests.signal.cov as cov\n",
    "import backtests.signal.momentum as mom\n",
    "import backtests.signal.vol as vol\n",
    "import backtests.strat as strat\n",
    "import backtests.utils.financials as ft\n",
    "\n",
    "from backtests.results.strat_results import export_test_jobs\n",
    "\n",
    "from backtests.utils import sqldb as cdb\n",
    "\n",
    "START_DATE = '2010-01-01'\n",
    "END_DATE = '2019-07-31'\n",
    "PERIOD = Period(START_DATE, END_DATE)\n",
    "\n",
    "df_tickers = pd.read_csv(\"tickers_clean.csv\")\n",
    "tickers_list_full = df_tickers['ticker'].values\n",
    "df_close_full= dbm.get_numeric_data(tickers=tickers_list_full , field='PX_LAST', period=PERIOD, fit_period=252)"
   ]
  },
  {
   "cell_type": "code",
   "execution_count": 65,
   "metadata": {},
   "outputs": [],
   "source": [
    "df_test=df_close_full[22]"
   ]
  },
  {
   "cell_type": "code",
   "execution_count": 66,
   "metadata": {},
   "outputs": [
    {
     "data": {
      "text/plain": [
       "0"
      ]
     },
     "execution_count": 66,
     "metadata": {},
     "output_type": "execute_result"
    }
   ],
   "source": [
    "df_test\n",
    "df_test=df_test.dropna()\n",
    "df_test.isna().sum() "
   ]
  },
  {
   "cell_type": "code",
   "execution_count": 67,
   "metadata": {},
   "outputs": [],
   "source": [
    "df_test=df_close_full[22]\n",
    "df_test=df_test.dropna() \n",
    "list_df_22=[]\n",
    "for i in range(len(df_test)):\n",
    "    if i+256<len(df_test):\n",
    "        list_df_22.append(df_test[i:i+256])        "
   ]
  },
  {
   "cell_type": "code",
   "execution_count": 36,
   "metadata": {},
   "outputs": [
    {
     "data": {
      "text/plain": [
       "2812"
      ]
     },
     "execution_count": 36,
     "metadata": {},
     "output_type": "execute_result"
    }
   ],
   "source": [
    "len(df_test)"
   ]
  },
  {
   "cell_type": "code",
   "execution_count": 37,
   "metadata": {},
   "outputs": [
    {
     "data": {
      "text/plain": [
       "[<matplotlib.lines.Line2D at 0x7faad8cb8f60>]"
      ]
     },
     "execution_count": 37,
     "metadata": {},
     "output_type": "execute_result"
    },
    {
     "data": {
      "image/png": "[encoded data removed]",
      "text/plain": [
       "<Figure size 432x288 with 1 Axes>"
      ]
     },
     "metadata": {
      "needs_background": "light"
     },
     "output_type": "display_data"
    }
   ],
   "source": [
    "plt.plot(list_df_22[0])"
   ]
  },
  {
   "cell_type": "markdown",
   "metadata": {},
   "source": [
    "## 1- Aggregated autocorrelation"
   ]
  },
  {
   "cell_type": "code",
   "execution_count": 14,
   "metadata": {},
   "outputs": [],
   "source": [
    "def agg_autocorrelation(x, param):\n",
    "    r\"\"\"\n",
    "    Calculates the value of an aggregation function :math:`f_{agg}` (e.g. the variance or the mean) over the\n",
    "    autocorrelation :math:`R(l)` for different lags. The autocorrelation :math:`R(l)` for lag :math:`l` is defined as\n",
    "\n",
    "    .. math::\n",
    "\n",
    "        R(l) = \\frac{1}{(n-l)\\sigma^{2}} \\sum_{t=1}^{n-l}(X_{t}-\\mu )(X_{t+l}-\\mu)\n",
    "\n",
    "    where :math:`X_i` are the values of the time series, :math:`n` its length. Finally, :math:`\\sigma^2` and\n",
    "    :math:`\\mu` are estimators for its variance and mean\n",
    "    (See `Estimation of the Autocorrelation function <http://en.wikipedia.org/wiki/Autocorrelation#Estimation>`_).\n",
    "\n",
    "    The :math:`R(l)` for different lags :math:`l` form a vector. This feature calculator applies the aggregation\n",
    "    function :math:`f_{agg}` to this vector and returns\n",
    "\n",
    "    .. math::\n",
    "\n",
    "        f_{agg} \\left( R(1), \\ldots, R(m)\\right) \\quad \\text{for} \\quad m = max(n, maxlag).\n",
    "\n",
    "    Here :math:`maxlag` is the second parameter passed to this function.\n",
    "\n",
    "    :param x: the time series to calculate the feature of\n",
    "    :type x: pandas.Series\n",
    "    :param param: contains dictionaries {\"f_agg\": x, \"maxlag\", n} with x str, the name of a numpy function\n",
    "                  (e.g. \"mean\", \"var\", \"std\", \"median\"), its the name of the aggregator function that is applied to the\n",
    "                  autocorrelations. Further, n is an int and the maximal number of lags to consider.\n",
    "    :type param: list\n",
    "    :return: the value of this feature\n",
    "    :return type: float\n",
    "    \"\"\"\n",
    "    # if the time series is longer than the following threshold, we use fft to calculate the acf\n",
    "    THRESHOLD_TO_USE_FFT = 1250\n",
    "    var = np.var(x)\n",
    "    n = len(x)\n",
    "    max_maxlag = max([config[\"maxlag\"] for config in param])\n",
    "\n",
    "    if np.abs(var) < 10**-10 or n == 1:\n",
    "        a = [0] * len(x)\n",
    "    else:\n",
    "        a = acf(x, unbiased=True, fft=n > THRESHOLD_TO_USE_FFT, nlags=max_maxlag)[1:]\n",
    "    return [(\"f_agg_\\\"{}\\\"__maxlag_{}\".format(config[\"f_agg\"], config[\"maxlag\"]),\n",
    "             getattr(np, config[\"f_agg\"])(a[:int(config[\"maxlag\"])])) for config in param]"
   ]
  },
  {
   "cell_type": "code",
   "execution_count": 10,
   "metadata": {},
   "outputs": [],
   "source": [
    "param = [{'f_agg': 'mean', 'maxlag': 40},\n",
    " {'f_agg': 'median', 'maxlag': 40},\n",
    " {'f_agg': 'var', 'maxlag': 40},\n",
    " {'f_agg': 'var', 'maxlag': 48},\n",
    " {'f_agg': 'var', 'maxlag': 35}]"
   ]
  },
  {
   "cell_type": "code",
   "execution_count": 11,
   "metadata": {},
   "outputs": [],
   "source": [
    "max_maxlag = max([config[\"maxlag\"] for config in param])"
   ]
  },
  {
   "cell_type": "code",
   "execution_count": 12,
   "metadata": {},
   "outputs": [
    {
     "data": {
      "text/plain": [
       "48"
      ]
     },
     "execution_count": 12,
     "metadata": {},
     "output_type": "execute_result"
    }
   ],
   "source": [
    "max_maxlag"
   ]
  },
  {
   "cell_type": "code",
   "execution_count": 1,
   "metadata": {},
   "outputs": [
    {
     "ename": "NameError",
     "evalue": "name 'list_df_22' is not defined",
     "output_type": "error",
     "traceback": [
      "\u001b[0;31m---------------------------------------------------------------------------\u001b[0m",
      "\u001b[0;31mNameError\u001b[0m                                 Traceback (most recent call last)",
      "\u001b[0;32m<ipython-input-1-ab987a83ae03>\u001b[0m in \u001b[0;36m<module>\u001b[0;34m\u001b[0m\n\u001b[1;32m      3\u001b[0m \u001b[0magg_autocorrel_median\u001b[0m\u001b[0;34m=\u001b[0m\u001b[0;34m[\u001b[0m\u001b[0;34m]\u001b[0m\u001b[0;34m\u001b[0m\u001b[0;34m\u001b[0m\u001b[0m\n\u001b[1;32m      4\u001b[0m \u001b[0magg_autocorrel_var\u001b[0m\u001b[0;34m=\u001b[0m\u001b[0;34m[\u001b[0m\u001b[0;34m]\u001b[0m\u001b[0;34m\u001b[0m\u001b[0;34m\u001b[0m\u001b[0m\n\u001b[0;32m----> 5\u001b[0;31m \u001b[0;32mfor\u001b[0m \u001b[0mdf\u001b[0m \u001b[0;32min\u001b[0m \u001b[0mlist_df_22\u001b[0m\u001b[0;34m:\u001b[0m\u001b[0;34m\u001b[0m\u001b[0;34m\u001b[0m\u001b[0m\n\u001b[0m\u001b[1;32m      6\u001b[0m     \u001b[0magg_autocorrel_mean\u001b[0m\u001b[0;34m.\u001b[0m\u001b[0mappend\u001b[0m\u001b[0;34m(\u001b[0m\u001b[0magg_autocorrelation\u001b[0m\u001b[0;34m(\u001b[0m\u001b[0mdf\u001b[0m\u001b[0;34m,\u001b[0m \u001b[0mparam\u001b[0m\u001b[0;34m)\u001b[0m \u001b[0;34m[\u001b[0m\u001b[0;36m0\u001b[0m\u001b[0;34m]\u001b[0m\u001b[0;34m)\u001b[0m\u001b[0;34m\u001b[0m\u001b[0;34m\u001b[0m\u001b[0m\n\u001b[1;32m      7\u001b[0m     \u001b[0magg_autocorrel_median\u001b[0m\u001b[0;34m.\u001b[0m\u001b[0mappend\u001b[0m\u001b[0;34m(\u001b[0m\u001b[0magg_autocorrelation\u001b[0m\u001b[0;34m(\u001b[0m\u001b[0mdf\u001b[0m\u001b[0;34m,\u001b[0m \u001b[0mparam\u001b[0m\u001b[0;34m)\u001b[0m \u001b[0;34m[\u001b[0m\u001b[0;36m1\u001b[0m\u001b[0;34m]\u001b[0m\u001b[0;34m)\u001b[0m\u001b[0;34m\u001b[0m\u001b[0;34m\u001b[0m\u001b[0m\n",
      "\u001b[0;31mNameError\u001b[0m: name 'list_df_22' is not defined"
     ]
    }
   ],
   "source": [
    "param=[{\"f_agg\": s, \"maxlag\": 40} for s in [\"mean\", \"median\", \"var\"]]\n",
    "agg_autocorrel_mean=[]\n",
    "agg_autocorrel_median=[]\n",
    "agg_autocorrel_var=[]\n",
    "for df in list_df_22:\n",
    "    agg_autocorrel_mean.append(agg_autocorrelation(df, param) [0])\n",
    "    agg_autocorrel_median.append(agg_autocorrelation(df, param) [1])\n",
    "    agg_autocorrel_var.append(agg_autocorrelation(df, param) [2])\n",
    "agg_autocorrel_mean = list(zip(*agg_autocorrel_mean))[1]\n",
    "agg_autocorrel_median = list(zip(*agg_autocorrel_median))[1]\n",
    "agg_autocorrel_var = list(zip(*agg_autocorrel_var))[1]"
   ]
  },
  {
   "cell_type": "code",
   "execution_count": 68,
   "metadata": {},
   "outputs": [],
   "source": [
    "a=list_df_22[0]"
   ]
  },
  {
   "cell_type": "code",
   "execution_count": 123,
   "metadata": {},
   "outputs": [
    {
     "data": {
      "text/plain": [
       "[('f_agg_\"mean\"__maxlag_40', 0.4951582817219193),\n",
       " ('f_agg_\"median\"__maxlag_40', 0.4538467413387649),\n",
       " ('f_agg_\"var\"__maxlag_40', 0.06873698723679449)]"
      ]
     },
     "execution_count": 123,
     "metadata": {},
     "output_type": "execute_result"
    }
   ],
   "source": [
    "agg_autocorrelation(a, param) "
   ]
  },
  {
   "cell_type": "code",
   "execution_count": 124,
   "metadata": {},
   "outputs": [
    {
     "data": {
      "text/plain": [
       "[<matplotlib.lines.Line2D at 0x7f123434e128>]"
      ]
     },
     "execution_count": 124,
     "metadata": {},
     "output_type": "execute_result"
    },
    {
     "data": {
      "image/png": "[encoded data removed]",
      "text/plain": [
       "<Figure size 432x288 with 1 Axes>"
      ]
     },
     "metadata": {
      "needs_background": "light"
     },
     "output_type": "display_data"
    }
   ],
   "source": [
    "plt.plot(agg_autocorrel_median)"
   ]
  },
  {
   "cell_type": "code",
   "execution_count": 134,
   "metadata": {},
   "outputs": [
    {
     "data": {
      "text/plain": [
       "[<matplotlib.lines.Line2D at 0x7f1233f36c88>]"
      ]
     },
     "execution_count": 134,
     "metadata": {},
     "output_type": "execute_result"
    },
    {
     "data": {
      "image/png": "[encoded data removed]",
      "text/plain": [
       "<Figure size 432x288 with 1 Axes>"
      ]
     },
     "metadata": {
      "needs_background": "light"
     },
     "output_type": "display_data"
    }
   ],
   "source": [
    "plt.plot(agg_autocorrel_var)"
   ]
  },
  {
   "cell_type": "markdown",
   "metadata": {},
   "source": [
    "## 2- Autoregression coefficient "
   ]
  },
  {
   "cell_type": "code",
   "execution_count": 88,
   "metadata": {},
   "outputs": [],
   "source": [
    "def ar_coefficient(x, param):\n",
    "    \"\"\"\n",
    "    This feature calculator fits the unconditional maximum likelihood\n",
    "    of an autoregressive AR(k) process.\n",
    "    The k parameter is the maximum lag of the process\n",
    "\n",
    "    .. math::\n",
    "\n",
    "        X_{t}=\\\\varphi_0 +\\\\sum _{{i=1}}^{k}\\\\varphi_{i}X_{{t-i}}+\\\\varepsilon_{t}\n",
    "\n",
    "    For the configurations from param which should contain the maxlag \"k\" and such an AR process is calculated. Then\n",
    "    the coefficients :math:`\\\\varphi_{i}` whose index :math:`i` contained from \"coeff\" are returned.\n",
    "\n",
    "    :param x: the time series to calculate the feature of\n",
    "    :type x: pandas.Series\n",
    "    :param param: contains dictionaries {\"coeff\": x, \"k\": y} with x,y int\n",
    "    :type param: list\n",
    "    :return x: the different feature values\n",
    "    :return type: pandas.Series\n",
    "    \"\"\"\n",
    "    calculated_ar_params = {}\n",
    "\n",
    "    x_as_list = list(x)\n",
    "    calculated_AR = AR(x_as_list)\n",
    "\n",
    "    res = {}\n",
    "\n",
    "    for parameter_combination in param:\n",
    "        k = parameter_combination[\"k\"]\n",
    "        p = parameter_combination[\"coeff\"]\n",
    "\n",
    "        column_name = \"k_{}__coeff_{}\".format(k, p)\n",
    "\n",
    "        if k not in calculated_ar_params:\n",
    "            try:\n",
    "                calculated_ar_params[k] = calculated_AR.fit(maxlag=k, solver=\"mle\").params\n",
    "            except (LinAlgError, ValueError):\n",
    "                calculated_ar_params[k] = [np.NaN]*k\n",
    "\n",
    "        mod = calculated_ar_params[k]\n",
    "\n",
    "        if p <= k:\n",
    "            try:\n",
    "                res[column_name] = mod[p]\n",
    "            except IndexError:\n",
    "                res[column_name] = 0\n",
    "        else:\n",
    "            res[column_name] = np.NaN\n",
    "\n",
    "    return [(key, value) for key, value in res.items()]"
   ]
  },
  {
   "cell_type": "code",
   "execution_count": 132,
   "metadata": {},
   "outputs": [],
   "source": [
    "param=[{\"coeff\": coeff, \"k\": k} for coeff in range(5) for k in [10]]"
   ]
  },
  {
   "cell_type": "code",
   "execution_count": 133,
   "metadata": {},
   "outputs": [
    {
     "data": {
      "text/plain": [
       "[('k_10__coeff_0', 1.0061591748815992),\n",
       " ('k_10__coeff_1', 1.0795130665847665),\n",
       " ('k_10__coeff_2', -0.15177628131973997),\n",
       " ('k_10__coeff_3', 0.05259924237948588),\n",
       " ('k_10__coeff_4', 0.1420083653186106)]"
      ]
     },
     "execution_count": 133,
     "metadata": {},
     "output_type": "execute_result"
    }
   ],
   "source": [
    "ar_coefficient(a, param)"
   ]
  },
  {
   "cell_type": "markdown",
   "metadata": {},
   "source": [
    "## 3- Augmented Dickey Fuller"
   ]
  },
  {
   "cell_type": "code",
   "execution_count": 136,
   "metadata": {},
   "outputs": [],
   "source": [
    "def augmented_dickey_fuller(x, param):\n",
    "    \"\"\"\n",
    "    The Augmented Dickey-Fuller test is a hypothesis test which checks whether a unit root is present in a time\n",
    "    series sample. This feature calculator returns the value of the respective test statistic.\n",
    "\n",
    "    See the statsmodels implementation for references and more details.\n",
    "\n",
    "    :param x: the time series to calculate the feature of\n",
    "    :type x: pandas.Series\n",
    "    :param param: contains dictionaries {\"attr\": x} with x str, either \"teststat\", \"pvalue\" or \"usedlag\"\n",
    "    :type param: list\n",
    "    :return: the value of this feature\n",
    "    :return type: float\n",
    "    \"\"\"\n",
    "    res = None\n",
    "    try:\n",
    "        res = adfuller(x)\n",
    "    except LinAlgError:\n",
    "        res = np.NaN, np.NaN, np.NaN\n",
    "    except ValueError: # occurs if sample size is too small\n",
    "        res = np.NaN, np.NaN, np.NaN\n",
    "    except MissingDataError: # is thrown for e.g. inf or nan in the data\n",
    "        res = np.NaN, np.NaN, np.NaN\n",
    "\n",
    "    return [('attr_\"{}\"'.format(config[\"attr\"]),\n",
    "                  res[0] if config[\"attr\"] == \"teststat\"\n",
    "             else res[1] if config[\"attr\"] == \"pvalue\"\n",
    "             else res[2] if config[\"attr\"] == \"usedlag\" else np.NaN)\n",
    "            for config in param]\n"
   ]
  },
  {
   "cell_type": "code",
   "execution_count": 137,
   "metadata": {},
   "outputs": [],
   "source": [
    "param=[{\"attr\": \"teststat\"}, {\"attr\": \"pvalue\"}, {\"attr\": \"usedlag\"}]"
   ]
  },
  {
   "cell_type": "code",
   "execution_count": 138,
   "metadata": {},
   "outputs": [
    {
     "data": {
      "text/plain": [
       "[('attr_\"teststat\"', -1.386912175895508),\n",
       " ('attr_\"pvalue\"', 0.5885342545255908),\n",
       " ('attr_\"usedlag\"', 4)]"
      ]
     },
     "execution_count": 138,
     "metadata": {},
     "output_type": "execute_result"
    }
   ],
   "source": [
    "augmented_dickey_fuller(a, param)"
   ]
  },
  {
   "cell_type": "markdown",
   "metadata": {},
   "source": [
    "## 4- Autocorrelation"
   ]
  },
  {
   "cell_type": "code",
   "execution_count": 114,
   "metadata": {},
   "outputs": [],
   "source": [
    "def autocorrelation(x, lag):\n",
    "    \"\"\"\n",
    "    Calculates the autocorrelation of the specified lag, according to the formula [1]\n",
    "\n",
    "    .. math::\n",
    "\n",
    "        \\\\frac{1}{(n-l)\\sigma^{2}} \\\\sum_{t=1}^{n-l}(X_{t}-\\\\mu )(X_{t+l}-\\\\mu)\n",
    "\n",
    "    where :math:`n` is the length of the time series :math:`X_i`, :math:`\\sigma^2` its variance and :math:`\\mu` its\n",
    "    mean. `l` denotes the lag.\n",
    "\n",
    "    .. rubric:: References\n",
    "\n",
    "    [1] https://en.wikipedia.org/wiki/Autocorrelation#Estimation\n",
    "\n",
    "    :param x: the time series to calculate the feature of\n",
    "    :type x: pandas.Series\n",
    "    :param lag: the lag\n",
    "    :type lag: int\n",
    "    :return: the value of this feature\n",
    "    :return type: float\n",
    "    \"\"\"\n",
    "    # This is important: If a series is passed, the product below is calculated\n",
    "    # based on the index, which corresponds to squaring the series.\n",
    "    if type(x) is pd.Series:\n",
    "        x = x.values\n",
    "    if len(x) < lag:\n",
    "        return np.nan\n",
    "    # Slice the relevant subseries based on the lag\n",
    "    y1 = x[:(len(x)-lag)]\n",
    "    y2 = x[lag:]\n",
    "    # Subtract the mean of the whole series x\n",
    "    x_mean = np.mean(x)\n",
    "    # The result is sometimes referred to as \"covariation\"\n",
    "    sum_product = np.sum((y1 - x_mean) * (y2 - x_mean))\n",
    "    # Return the normalized unbiased covariance\n",
    "    v = np.var(x)\n",
    "    if np.isclose(v, 0):\n",
    "        return np.NaN\n",
    "    else:\n",
    "        return sum_product / ((len(x) - lag) * v)"
   ]
  },
  {
   "cell_type": "code",
   "execution_count": 131,
   "metadata": {},
   "outputs": [],
   "source": [
    "param=[{\"lag\": lag} for lag in range(1,11)]"
   ]
  },
  {
   "cell_type": "code",
   "execution_count": 132,
   "metadata": {},
   "outputs": [
    {
     "data": {
      "text/plain": [
       "[0.9761410305071757,\n",
       " 0.94979231420016,\n",
       " 0.9264467826238012,\n",
       " 0.9041170693295683,\n",
       " 0.8790301080847532,\n",
       " 0.8526482913282755,\n",
       " 0.826125747611228,\n",
       " 0.7965908638449986,\n",
       " 0.7663061411731797,\n",
       " 0.7352168162696607]"
      ]
     },
     "execution_count": 132,
     "metadata": {},
     "output_type": "execute_result"
    }
   ],
   "source": [
    "[autocorrelation(a, lag) for lag in range(1,11)]"
   ]
  },
  {
   "cell_type": "markdown",
   "metadata": {},
   "source": [
    "## 5 - Autocorrelogram"
   ]
  },
  {
   "cell_type": "code",
   "execution_count": 126,
   "metadata": {},
   "outputs": [],
   "source": [
    "def plot_autocorrelogram(x, param):\n",
    "    \"\"\"\n",
    "  \n",
    "\n",
    "    :param x: the time series to calculate the feature of\n",
    "    :type x: pandas.Series\n",
    "    :param param: contains dictionaries {\"lag\": val} with int val indicating the lag to be returned\n",
    "    :type param: list\n",
    "    :return: plot of partial autocorrelogram\n",
    "    :return type: pyplot\n",
    "    \"\"\"\n",
    "    # Creats a list of wanted lags\n",
    "\n",
    "    list_lags= [lag[\"lag\"] for lag in param]\n",
    "    \n",
    "    # Plot \n",
    "    plot_acf(x, lags=list_lags, zero=False)"
   ]
  },
  {
   "cell_type": "code",
   "execution_count": 133,
   "metadata": {},
   "outputs": [
    {
     "data": {
      "image/png": "[encoded data removed]",
      "text/plain": [
       "<Figure size 432x288 with 1 Axes>"
      ]
     },
     "metadata": {
      "needs_background": "light"
     },
     "output_type": "display_data"
    }
   ],
   "source": [
    "plot_autocorrelogram(a, param)"
   ]
  },
  {
   "cell_type": "markdown",
   "metadata": {},
   "source": [
    "## 5- C3 function"
   ]
  },
  {
   "cell_type": "code",
   "execution_count": 51,
   "metadata": {},
   "outputs": [],
   "source": [
    "def c3(x, lag):\n",
    "    \"\"\"\n",
    "    This function calculates the value of\n",
    "\n",
    "    .. math::\n",
    "\n",
    "        \\\\frac{1}{n-2lag} \\sum_{i=0}^{n-2lag} x_{i + 2 \\cdot lag}^2 \\cdot x_{i + lag} \\cdot x_{i}\n",
    "\n",
    "    which is\n",
    "\n",
    "    .. math::\n",
    "\n",
    "        \\\\mathbb{E}[L^2(X)^2 \\cdot L(X) \\cdot X]\n",
    "\n",
    "    where :math:`\\\\mathbb{E}` is the mean and :math:`L` is the lag operator. It was proposed in [1] as a measure of\n",
    "    non linearity in the time series.\n",
    "\n",
    "    .. rubric:: References\n",
    "\n",
    "    |  [1] Schreiber, T. and Schmitz, A. (1997).\n",
    "    |  Discrimination power of measures for nonlinearity in a time series\n",
    "    |  PHYSICAL REVIEW E, VOLUME 55, NUMBER 5\n",
    "\n",
    "    :param x: the time series to calculate the feature of\n",
    "    :type x: pandas.Series\n",
    "    :param lag: the lag that should be used in the calculation of the feature\n",
    "    :type lag: int\n",
    "    :return: the value of this feature\n",
    "    :return type: float\n",
    "    \"\"\"\n",
    "    if not isinstance(x, (np.ndarray, pd.Series)):\n",
    "        x = np.asarray(x)\n",
    "    n = x.size\n",
    "    if 2 * lag >= n:\n",
    "        return 0\n",
    "    else:\n",
    "        return np.mean((_roll(x, 2 * -lag) * _roll(x, -lag) * x)[0:(n - 2 * lag)])\n"
   ]
  },
  {
   "cell_type": "code",
   "execution_count": 149,
   "metadata": {},
   "outputs": [],
   "source": [
    "param=[{\"lag\": lag} for lag in range(1, 4)]"
   ]
  },
  {
   "cell_type": "code",
   "execution_count": 150,
   "metadata": {},
   "outputs": [
    {
     "data": {
      "text/plain": [
       "[142060.74791859448, 139953.87316158332, 137850.795411992]"
      ]
     },
     "execution_count": 150,
     "metadata": {},
     "output_type": "execute_result"
    }
   ],
   "source": [
    "[c3(a, lag) for lag in range(1,4)]"
   ]
  },
  {
   "cell_type": "markdown",
   "metadata": {},
   "source": [
    "## 6- CID distance"
   ]
  },
  {
   "cell_type": "code",
   "execution_count": 153,
   "metadata": {},
   "outputs": [],
   "source": [
    "def cid_ce(x, normalize):\n",
    "    \"\"\"\n",
    "    This function calculator is an estimate for a time series complexity [1] (A more complex time series has more peaks,\n",
    "    valleys etc.). It calculates the value of\n",
    "\n",
    "    .. math::\n",
    "\n",
    "        \\\\sqrt{ \\\\sum_{i=0}^{n-2lag} ( x_{i} - x_{i+1})^2 }\n",
    "\n",
    "    .. rubric:: References\n",
    "\n",
    "    |  [1] Batista, Gustavo EAPA, et al (2014).\n",
    "    |  CID: an efficient complexity-invariant distance for time series.\n",
    "    |  Data Mining and Knowledge Difscovery 28.3 (2014): 634-669.\n",
    "\n",
    "    :param x: the time series to calculate the feature of\n",
    "    :type x: pandas.Series\n",
    "    :param normalize: should the time series be z-transformed?\n",
    "    :type normalize: bool\n",
    "\n",
    "    :return: the value of this feature\n",
    "    :return type: float\n",
    "    \"\"\"\n",
    "    if not isinstance(x, (np.ndarray, pd.Series)):\n",
    "        x = np.asarray(x)\n",
    "    if normalize:\n",
    "        s = np.std(x)\n",
    "        if s!=0:\n",
    "            x = (x - np.mean(x))/s\n",
    "        else:\n",
    "            return 0.0\n",
    "\n",
    "    x = np.diff(x)\n",
    "    return np.sqrt(np.dot(x, x))"
   ]
  },
  {
   "cell_type": "code",
   "execution_count": 152,
   "metadata": {},
   "outputs": [],
   "source": [
    "param=[{\"normalize\": True}, {\"normalize\": False}]"
   ]
  },
  {
   "cell_type": "code",
   "execution_count": 154,
   "metadata": {},
   "outputs": [
    {
     "data": {
      "text/plain": [
       "2.6303678006085853"
      ]
     },
     "execution_count": 154,
     "metadata": {},
     "output_type": "execute_result"
    }
   ],
   "source": [
    "cid_ce(a, normalize=True)"
   ]
  },
  {
   "cell_type": "code",
   "execution_count": 155,
   "metadata": {},
   "outputs": [
    {
     "data": {
      "text/plain": [
       "30.452811036093202"
      ]
     },
     "execution_count": 155,
     "metadata": {},
     "output_type": "execute_result"
    }
   ],
   "source": [
    "cid_ce(a, normalize=False)"
   ]
  },
  {
   "cell_type": "markdown",
   "metadata": {},
   "source": [
    "## 7- Above below mean"
   ]
  },
  {
   "cell_type": "code",
   "execution_count": 156,
   "metadata": {},
   "outputs": [],
   "source": [
    "def above_below_mean(x):\n",
    "    \"\"\"\n",
    "    Returns the number of values in x that are higher than the mean of x\n",
    "\n",
    "    :param x: the time series to calculate the feature of\n",
    "    :type x: pandas.Series\n",
    "    :return: the value of this feature\n",
    "    :return type: float\n",
    "    \"\"\"\n",
    "    m = np.mean(x)\n",
    "    return np.where(x > m)[0].size/np.where(x < m)[0].size"
   ]
  },
  {
   "cell_type": "code",
   "execution_count": 157,
   "metadata": {},
   "outputs": [
    {
     "data": {
      "text/plain": [
       "1.015748031496063"
      ]
     },
     "execution_count": 157,
     "metadata": {},
     "output_type": "execute_result"
    }
   ],
   "source": [
    "above_below_mean(a)"
   ]
  },
  {
   "cell_type": "markdown",
   "metadata": {},
   "source": [
    "## 8- cwt coefficients"
   ]
  },
  {
   "cell_type": "code",
   "execution_count": 159,
   "metadata": {},
   "outputs": [],
   "source": [
    "def cwt_coefficients(x, param):\n",
    "    \"\"\"\n",
    "    Calculates a Continuous wavelet transform for the Ricker wavelet, also known as the \"Mexican hat wavelet\" which is\n",
    "    defined by\n",
    "\n",
    "    .. math::\n",
    "        \\\\frac{2}{\\\\sqrt{3a} \\\\pi^{\\\\frac{1}{4}}} (1 - \\\\frac{x^2}{a^2}) exp(-\\\\frac{x^2}{2a^2})\n",
    "\n",
    "    where :math:`a` is the width parameter of the wavelet function.\n",
    "\n",
    "    This feature calculator takes three different parameter: widths, coeff and w. The feature calculater takes all the\n",
    "    different widths arrays and then calculates the cwt one time for each different width array. Then the values for the\n",
    "    different coefficient for coeff and width w are returned. (For each dic in param one feature is returned)\n",
    "\n",
    "    :param x: the time series to calculate the feature of\n",
    "    :type x: pandas.Series\n",
    "    :param param: contains dictionaries {\"widths\":x, \"coeff\": y, \"w\": z} with x array of int and y,z int\n",
    "    :type param: list\n",
    "    :return: the different feature values\n",
    "    :return type: pandas.Series\n",
    "    \"\"\"\n",
    "\n",
    "    calculated_cwt = {}\n",
    "    res = []\n",
    "    indices = []\n",
    "\n",
    "    for parameter_combination in param:\n",
    "        widths = parameter_combination[\"widths\"]\n",
    "        w = parameter_combination[\"w\"]\n",
    "        coeff = parameter_combination[\"coeff\"]\n",
    "\n",
    "        if widths not in calculated_cwt:\n",
    "            calculated_cwt[widths] = cwt(x, ricker, widths)\n",
    "\n",
    "        calculated_cwt_for_widths = calculated_cwt[widths]\n",
    "\n",
    "        indices += [\"widths_{}__coeff_{}__w_{}\".format(widths, coeff, w)]\n",
    "\n",
    "        i = widths.index(w)\n",
    "        if calculated_cwt_for_widths.shape[1] <= coeff:\n",
    "            res += [np.NaN]\n",
    "        else:\n",
    "            res += [calculated_cwt_for_widths[i, coeff]]\n",
    "\n",
    "    return zip(indices, res)"
   ]
  },
  {
   "cell_type": "code",
   "execution_count": 161,
   "metadata": {},
   "outputs": [],
   "source": [
    "param=[{\"widths\": width, \"coeff\": coeff, \"w\": w} for\n",
    "                                 width in [(2, 5, 10, 20)] for coeff in range(15) for w in (2, 5, 10, 20)]"
   ]
  },
  {
   "cell_type": "code",
   "execution_count": 167,
   "metadata": {},
   "outputs": [
    {
     "data": {
      "text/plain": [
       "[('widths_(2, 5, 10, 20)__coeff_0__w_2', 2.9424143546925574),\n",
       " ('widths_(2, 5, 10, 20)__coeff_0__w_5', 0.9036489593305426),\n",
       " ('widths_(2, 5, 10, 20)__coeff_0__w_10', 6.0283418620951),\n",
       " ('widths_(2, 5, 10, 20)__coeff_0__w_20', 49.94187666760256),\n",
       " ('widths_(2, 5, 10, 20)__coeff_1__w_2', 42.686553467786624),\n",
       " ('widths_(2, 5, 10, 20)__coeff_1__w_5', 27.316803242520876),\n",
       " ('widths_(2, 5, 10, 20)__coeff_1__w_10', 26.217702776391224),\n",
       " ('widths_(2, 5, 10, 20)__coeff_1__w_20', 65.57307075507083),\n",
       " ('widths_(2, 5, 10, 20)__coeff_2__w_2', 55.09325732482827),\n",
       " ('widths_(2, 5, 10, 20)__coeff_2__w_5', 50.47998625757583),\n",
       " ('widths_(2, 5, 10, 20)__coeff_2__w_10', 45.9186918012622),\n",
       " ('widths_(2, 5, 10, 20)__coeff_2__w_20', 81.01985983261336),\n",
       " ('widths_(2, 5, 10, 20)__coeff_3__w_2', 41.09448691658694),\n",
       " ('widths_(2, 5, 10, 20)__coeff_3__w_5', 68.01160670775907),\n",
       " ('widths_(2, 5, 10, 20)__coeff_3__w_10', 64.58232507079377),\n",
       " ('widths_(2, 5, 10, 20)__coeff_3__w_20', 96.16393249185425),\n",
       " ('widths_(2, 5, 10, 20)__coeff_4__w_2', 20.093860448745303),\n",
       " ('widths_(2, 5, 10, 20)__coeff_4__w_5', 78.60121365724892),\n",
       " ('widths_(2, 5, 10, 20)__coeff_4__w_10', 81.71182454135345),\n",
       " ('widths_(2, 5, 10, 20)__coeff_4__w_20', 110.88922285366547),\n",
       " ('widths_(2, 5, 10, 20)__coeff_5__w_2', 6.324143990695815),\n",
       " ('widths_(2, 5, 10, 20)__coeff_5__w_5', 82.14170324568624),\n",
       " ('widths_(2, 5, 10, 20)__coeff_5__w_10', 96.88556500155818),\n",
       " ('widths_(2, 5, 10, 20)__coeff_5__w_20', 125.08328331377126),\n",
       " ('widths_(2, 5, 10, 20)__coeff_6__w_2', 0.9778856468112824),\n",
       " ('widths_(2, 5, 10, 20)__coeff_6__w_5', 79.57476501331988),\n",
       " ('widths_(2, 5, 10, 20)__coeff_6__w_10', 109.77469709621865),\n",
       " ('widths_(2, 5, 10, 20)__coeff_6__w_20', 138.63866007305776),\n",
       " ('widths_(2, 5, 10, 20)__coeff_7__w_2', -0.4115775945297173),\n",
       " ('widths_(2, 5, 10, 20)__coeff_7__w_5', 72.52705927341785),\n",
       " ('widths_(2, 5, 10, 20)__coeff_7__w_10', 120.15484622268085),\n",
       " ('widths_(2, 5, 10, 20)__coeff_7__w_20', 151.4539983453069),\n",
       " ('widths_(2, 5, 10, 20)__coeff_8__w_2', -0.7908306895998987),\n",
       " ('widths_(2, 5, 10, 20)__coeff_8__w_5', 62.86501691693407),\n",
       " ('widths_(2, 5, 10, 20)__coeff_8__w_10', 127.91086447531063),\n",
       " ('widths_(2, 5, 10, 20)__coeff_8__w_20', 163.43527723560862),\n",
       " ('widths_(2, 5, 10, 20)__coeff_9__w_2', -0.4359906609959143),\n",
       " ('widths_(2, 5, 10, 20)__coeff_9__w_5', 52.29781546298233),\n",
       " ('widths_(2, 5, 10, 20)__coeff_9__w_10', 133.03574353420976),\n",
       " ('widths_(2, 5, 10, 20)__coeff_9__w_20', 174.49699393431837),\n",
       " ('widths_(2, 5, 10, 20)__coeff_10__w_2', 1.0931788634835584),\n",
       " ('widths_(2, 5, 10, 20)__coeff_10__w_5', 42.11702854951923),\n",
       " ('widths_(2, 5, 10, 20)__coeff_10__w_10', 135.62263193086432),\n",
       " ('widths_(2, 5, 10, 20)__coeff_10__w_20', 184.56283336103235),\n",
       " ('widths_(2, 5, 10, 20)__coeff_11__w_2', 3.3647434867386607),\n",
       " ('widths_(2, 5, 10, 20)__coeff_11__w_5', 33.10248547565807),\n",
       " ('widths_(2, 5, 10, 20)__coeff_11__w_10', 135.85181014295702),\n",
       " ('widths_(2, 5, 10, 20)__coeff_11__w_20', 193.56661740264616),\n",
       " ('widths_(2, 5, 10, 20)__coeff_12__w_2', 4.899094282021618),\n",
       " ('widths_(2, 5, 10, 20)__coeff_12__w_5', 25.570458787249894),\n",
       " ('widths_(2, 5, 10, 20)__coeff_12__w_10', 133.97400013648723),\n",
       " ('widths_(2, 5, 10, 20)__coeff_12__w_20', 201.45289922925843),\n",
       " ('widths_(2, 5, 10, 20)__coeff_13__w_2', 4.162172739194638),\n",
       " ('widths_(2, 5, 10, 20)__coeff_13__w_5', 19.505228646329606),\n",
       " ('widths_(2, 5, 10, 20)__coeff_13__w_10', 130.29085231186707),\n",
       " ('widths_(2, 5, 10, 20)__coeff_13__w_20', 208.17742125065695),\n",
       " ('widths_(2, 5, 10, 20)__coeff_14__w_2', 1.2332740620912226),\n",
       " ('widths_(2, 5, 10, 20)__coeff_14__w_5', 14.713700967685707),\n",
       " ('widths_(2, 5, 10, 20)__coeff_14__w_10', 125.13417651876668),\n",
       " ('widths_(2, 5, 10, 20)__coeff_14__w_20', 213.70740430744343)]"
      ]
     },
     "execution_count": 167,
     "metadata": {},
     "output_type": "execute_result"
    }
   ],
   "source": [
    "list(cwt_coefficients(a, params))"
   ]
  },
  {
   "cell_type": "markdown",
   "metadata": {},
   "source": [
    "## 9- First location of maximum"
   ]
  },
  {
   "cell_type": "code",
   "execution_count": 217,
   "metadata": {},
   "outputs": [],
   "source": [
    "def first_location_of_maximum(x):\n",
    "    \"\"\"\n",
    "    Returns the first location of the maximum value of x.\n",
    "    The position is calculated relatively to the length of x.\n",
    "\n",
    "    :param x: the time series to calculate the feature of\n",
    "    :type x: pandas.Series\n",
    "    :return: the value of this feature\n",
    "    :return type: float\n",
    "    \"\"\"\n",
    "    x = np.asarray(x)\n",
    "    return np.argmax(x) / len(x) if len(x) > 0 else np.NaN\n"
   ]
  },
  {
   "cell_type": "code",
   "execution_count": 222,
   "metadata": {},
   "outputs": [
    {
     "data": {
      "text/plain": [
       "0.046875"
      ]
     },
     "execution_count": 222,
     "metadata": {},
     "output_type": "execute_result"
    }
   ],
   "source": [
    "first_location_of_maximum(a)"
   ]
  },
  {
   "cell_type": "markdown",
   "metadata": {},
   "source": [
    "## 10- First location of minimum"
   ]
  },
  {
   "cell_type": "code",
   "execution_count": 223,
   "metadata": {},
   "outputs": [],
   "source": [
    "def first_location_of_minimum(x):\n",
    "    \"\"\"\n",
    "    Returns the first location of the minimal value of x.\n",
    "    The position is calculated relatively to the length of x.\n",
    "\n",
    "    :param x: the time series to calculate the feature of\n",
    "    :type x: pandas.Series\n",
    "    :return: the value of this feature\n",
    "    :return type: float\n",
    "    \"\"\"\n",
    "    x = np.asarray(x)\n",
    "    return np.argmin(x) / len(x) if len(x) > 0 else np.NaN"
   ]
  },
  {
   "cell_type": "code",
   "execution_count": 224,
   "metadata": {},
   "outputs": [
    {
     "data": {
      "text/plain": [
       "0.27734375"
      ]
     },
     "execution_count": 224,
     "metadata": {},
     "output_type": "execute_result"
    }
   ],
   "source": [
    "last_location_of_minimum(a)"
   ]
  },
  {
   "cell_type": "markdown",
   "metadata": {},
   "source": [
    "## 11- Has duplicate"
   ]
  },
  {
   "cell_type": "code",
   "execution_count": 172,
   "metadata": {},
   "outputs": [],
   "source": [
    "def has_duplicate(x):\n",
    "    \"\"\"\n",
    "    Checks if any value in x occurs more than once\n",
    "\n",
    "    :param x: the time series to calculate the feature of\n",
    "    :type x: pandas.Series\n",
    "    :return: the value of this feature\n",
    "    :return type: bool\n",
    "    \"\"\"\n",
    "    if not isinstance(x, (np.ndarray, pd.Series)):\n",
    "        x = np.asarray(x)\n",
    "    return x.size != np.unique(x).size"
   ]
  },
  {
   "cell_type": "code",
   "execution_count": 174,
   "metadata": {},
   "outputs": [
    {
     "data": {
      "text/plain": [
       "True"
      ]
     },
     "execution_count": 174,
     "metadata": {},
     "output_type": "execute_result"
    }
   ],
   "source": [
    "has_duplicate(a)"
   ]
  },
  {
   "cell_type": "markdown",
   "metadata": {},
   "source": [
    "## 12- Index mass quantile"
   ]
  },
  {
   "cell_type": "code",
   "execution_count": 175,
   "metadata": {},
   "outputs": [],
   "source": [
    "def index_mass_quantile(x, param):\n",
    "    \"\"\"\n",
    "    Those apply features calculate the relative index i where q% of the mass of the time series x lie left of i.\n",
    "    For example for q = 50% this feature calculator will return the mass center of the time series\n",
    "\n",
    "    :param x: the time series to calculate the feature of\n",
    "    :type x: pandas.Series\n",
    "    :param param: contains dictionaries {\"q\": x} with x float\n",
    "    :type param: list\n",
    "    :return: the different feature values\n",
    "    :return type: pandas.Series\n",
    "    \"\"\"\n",
    "\n",
    "    x = np.asarray(x)\n",
    "    abs_x = np.abs(x)\n",
    "    s = sum(abs_x)\n",
    "\n",
    "    if s == 0:\n",
    "        # all values in x are zero or it has length 0\n",
    "        return [(\"q_{}\".format(config[\"q\"]), np.NaN) for config in param]\n",
    "    else:\n",
    "        # at least one value is not zero\n",
    "        mass_centralized = np.cumsum(abs_x) / s\n",
    "        return [(\"q_{}\".format(config[\"q\"]),\n",
    "                (np.argmax(mass_centralized >= config[\"q\"])+1)/len(x)) for config in param]"
   ]
  },
  {
   "cell_type": "code",
   "execution_count": 178,
   "metadata": {},
   "outputs": [],
   "source": [
    "param=[{\"q\": q} for q in [.1, .2, .3, .4, .5, .6, .7, .8, .9]]"
   ]
  },
  {
   "cell_type": "code",
   "execution_count": 179,
   "metadata": {},
   "outputs": [
    {
     "data": {
      "text/plain": [
       "[('q_0.1', 0.07421875),\n",
       " ('q_0.2', 0.15625),\n",
       " ('q_0.3', 0.28515625),\n",
       " ('q_0.4', 0.4140625),\n",
       " ('q_0.5', 0.54296875),\n",
       " ('q_0.6', 0.65234375),\n",
       " ('q_0.7', 0.7421875),\n",
       " ('q_0.8', 0.8359375),\n",
       " ('q_0.9', 0.9296875)]"
      ]
     },
     "execution_count": 179,
     "metadata": {},
     "output_type": "execute_result"
    }
   ],
   "source": [
    "index_mass_quantile(a, param)"
   ]
  },
  {
   "cell_type": "markdown",
   "metadata": {},
   "source": [
    "## 13- Kurtosis"
   ]
  },
  {
   "cell_type": "code",
   "execution_count": 180,
   "metadata": {},
   "outputs": [],
   "source": [
    "def kurtosis(x):\n",
    "    \"\"\"\n",
    "    Returns the kurtosis of x (calculated with the adjusted Fisher-Pearson standardized\n",
    "    moment coefficient G2).\n",
    "\n",
    "    :param x: the time series to calculate the feature of\n",
    "    :type x: pandas.Series\n",
    "    :return: the value of this feature\n",
    "    :return type: float\n",
    "    \"\"\"\n",
    "    if not isinstance(x, pd.Series):\n",
    "        x = pd.Series(x)\n",
    "    return pd.Series.kurtosis(x)\n"
   ]
  },
  {
   "cell_type": "code",
   "execution_count": 181,
   "metadata": {},
   "outputs": [
    {
     "data": {
      "text/plain": [
       "-0.7113740722127058"
      ]
     },
     "execution_count": 181,
     "metadata": {},
     "output_type": "execute_result"
    }
   ],
   "source": [
    "kurtosis(a)"
   ]
  },
  {
   "cell_type": "markdown",
   "metadata": {},
   "source": [
    "## 14- Large standard deviation"
   ]
  },
  {
   "cell_type": "code",
   "execution_count": 182,
   "metadata": {},
   "outputs": [],
   "source": [
    "def large_standard_deviation(x, r):\n",
    "    \"\"\"\n",
    "    Boolean variable denoting if the standard dev of x is higher\n",
    "    than 'r' times the range = difference between max and min of x.\n",
    "    Hence it checks if\n",
    "\n",
    "    .. math::\n",
    "\n",
    "        std(x) > r * (max(X)-min(X))\n",
    "\n",
    "    According to a rule of the thumb, the standard deviation should be a forth of the range of the values.\n",
    "\n",
    "    :param x: the time series to calculate the feature of\n",
    "    :type x: pandas.Series\n",
    "    :param r: the percentage of the range to compare with\n",
    "    :type r: float\n",
    "    :return: the value of this feature\n",
    "    :return type: bool\n",
    "    \"\"\"\n",
    "    if not isinstance(x, (np.ndarray, pd.Series)):\n",
    "        x = np.asarray(x)\n",
    "    return np.std(x) > (r * (np.max(x) - np.min(x)))"
   ]
  },
  {
   "cell_type": "code",
   "execution_count": 250,
   "metadata": {},
   "outputs": [
    {
     "data": {
      "text/plain": [
       "[{'r': 0.05},\n",
       " {'r': 0.1},\n",
       " {'r': 0.15000000000000002},\n",
       " {'r': 0.2},\n",
       " {'r': 0.25},\n",
       " {'r': 0.30000000000000004},\n",
       " {'r': 0.35000000000000003},\n",
       " {'r': 0.4},\n",
       " {'r': 0.45},\n",
       " {'r': 0.5},\n",
       " {'r': 0.55},\n",
       " {'r': 0.6000000000000001},\n",
       " {'r': 0.65},\n",
       " {'r': 0.7000000000000001},\n",
       " {'r': 0.75},\n",
       " {'r': 0.8},\n",
       " {'r': 0.8500000000000001},\n",
       " {'r': 0.9},\n",
       " {'r': 0.9500000000000001}]"
      ]
     },
     "execution_count": 250,
     "metadata": {},
     "output_type": "execute_result"
    }
   ],
   "source": [
    "param=[{\"r\": r * 0.05} for r in range(1, 20)]\n",
    "param"
   ]
  },
  {
   "cell_type": "code",
   "execution_count": 251,
   "metadata": {},
   "outputs": [
    {
     "data": {
      "text/plain": [
       "[True,\n",
       " True,\n",
       " True,\n",
       " True,\n",
       " False,\n",
       " False,\n",
       " False,\n",
       " False,\n",
       " False,\n",
       " False,\n",
       " False,\n",
       " False,\n",
       " False,\n",
       " False,\n",
       " False,\n",
       " False,\n",
       " False,\n",
       " False,\n",
       " False]"
      ]
     },
     "execution_count": 251,
     "metadata": {},
     "output_type": "execute_result"
    }
   ],
   "source": [
    "[large_standard_deviation(x, value) for dic in param for key,value in dic.items()]"
   ]
  },
  {
   "cell_type": "markdown",
   "metadata": {},
   "source": [
    "## 15- Last location of maximum"
   ]
  },
  {
   "cell_type": "code",
   "execution_count": 225,
   "metadata": {},
   "outputs": [],
   "source": [
    "def last_location_of_maximum(x):\n",
    "    \"\"\"\n",
    "    Returns the relative last location of the maximum value of x.\n",
    "    The position is calculated relatively to the length of x.\n",
    "\n",
    "    :param x: the time series to calculate the feature of\n",
    "    :type x: pandas.Series\n",
    "    :return: the value of this feature\n",
    "    :return type: float\n",
    "    \"\"\"\n",
    "    x = np.asarray(x)\n",
    "    return 1.0 - np.argmax(x[::-1]) / len(x) if len(x) > 0 else np.NaN"
   ]
  },
  {
   "cell_type": "code",
   "execution_count": 227,
   "metadata": {},
   "outputs": [
    {
     "data": {
      "text/plain": [
       "0.05078125"
      ]
     },
     "execution_count": 227,
     "metadata": {},
     "output_type": "execute_result"
    }
   ],
   "source": [
    "last_location_of_maximum(a)"
   ]
  },
  {
   "cell_type": "markdown",
   "metadata": {},
   "source": [
    "## 16- Last location of minimum"
   ]
  },
  {
   "cell_type": "code",
   "execution_count": 212,
   "metadata": {},
   "outputs": [],
   "source": [
    "def last_location_of_minimum(x):\n",
    "    \"\"\"\n",
    "    Returns the last location of the minimal value of x.\n",
    "    The position is calculated relatively to the length of x.\n",
    "\n",
    "    :param x: the time series to calculate the feature of\n",
    "    :type x: pandas.Series\n",
    "    :return: the value of this feature\n",
    "    :return type: float\n",
    "    \"\"\"\n",
    "    x = np.asarray(x)\n",
    "    return 1.0 - np.argmin(x[::-1]) / len(x) if len(x) > 0 else np.NaN"
   ]
  },
  {
   "cell_type": "code",
   "execution_count": 228,
   "metadata": {},
   "outputs": [
    {
     "data": {
      "text/plain": [
       "0.27734375"
      ]
     },
     "execution_count": 228,
     "metadata": {},
     "output_type": "execute_result"
    }
   ],
   "source": [
    "last_location_of_minimum(a)"
   ]
  },
  {
   "cell_type": "markdown",
   "metadata": {},
   "source": [
    "## 17- Longuest strike above mean"
   ]
  },
  {
   "cell_type": "code",
   "execution_count": 230,
   "metadata": {},
   "outputs": [],
   "source": [
    "def longest_strike_above_mean(x):\n",
    "    \"\"\"\n",
    "    Returns the length of the longest consecutive subsequence in x that is bigger than the mean of x\n",
    "\n",
    "    :param x: the time series to calculate the feature of\n",
    "    :type x: pandas.Series\n",
    "    :return: the value of this feature\n",
    "    :return type: float\n",
    "    \"\"\"\n",
    "    if not isinstance(x, (np.ndarray, pd.Series)):\n",
    "        x = np.asarray(x)\n",
    "    return np.max(_get_length_sequences_where(x >= np.mean(x))) if x.size > 0 else 0"
   ]
  },
  {
   "cell_type": "code",
   "execution_count": 232,
   "metadata": {},
   "outputs": [
    {
     "data": {
      "text/plain": [
       "50"
      ]
     },
     "execution_count": 232,
     "metadata": {},
     "output_type": "execute_result"
    }
   ],
   "source": [
    "longest_strike_above_mean(a)"
   ]
  },
  {
   "cell_type": "markdown",
   "metadata": {},
   "source": [
    "## 18- Longuest strike below mean"
   ]
  },
  {
   "cell_type": "code",
   "execution_count": 231,
   "metadata": {},
   "outputs": [],
   "source": [
    "def longest_strike_below_mean(x):\n",
    "    \"\"\"\n",
    "    Returns the length of the longest consecutive subsequence in x that is smaller than the mean of x\n",
    "\n",
    "    :param x: the time series to calculate the feature of\n",
    "    :type x: pandas.Series\n",
    "    :return: the value of this feature\n",
    "    :return type: float\n",
    "    \"\"\"\n",
    "    if not isinstance(x, (np.ndarray, pd.Series)):\n",
    "        x = np.asarray(x)\n",
    "    return np.max(_get_length_sequences_where(x <= np.mean(x))) if x.size > 0 else 0"
   ]
  },
  {
   "cell_type": "code",
   "execution_count": 233,
   "metadata": {},
   "outputs": [
    {
     "data": {
      "text/plain": [
       "125"
      ]
     },
     "execution_count": 233,
     "metadata": {},
     "output_type": "execute_result"
    }
   ],
   "source": [
    "longest_strike_below_mean(a)"
   ]
  },
  {
   "cell_type": "markdown",
   "metadata": {},
   "source": [
    "## 19- Maximum"
   ]
  },
  {
   "cell_type": "code",
   "execution_count": 234,
   "metadata": {},
   "outputs": [],
   "source": [
    "def maximum(x):\n",
    "    \"\"\"\n",
    "    Calculates the highest value of the time series x.\n",
    "\n",
    "    :param x: the time series to calculate the feature of\n",
    "    :type x: pandas.Series\n",
    "    :return: the value of this feature\n",
    "    :return type: float\n",
    "    \"\"\"\n",
    "    return np.max(x)"
   ]
  },
  {
   "cell_type": "code",
   "execution_count": 235,
   "metadata": {},
   "outputs": [
    {
     "data": {
      "text/plain": [
       "73.99"
      ]
     },
     "execution_count": 235,
     "metadata": {},
     "output_type": "execute_result"
    }
   ],
   "source": [
    "maximum(a)"
   ]
  },
  {
   "cell_type": "markdown",
   "metadata": {},
   "source": [
    "## 20- Minimum"
   ]
  },
  {
   "cell_type": "code",
   "execution_count": null,
   "metadata": {},
   "outputs": [],
   "source": [
    "def minimum(x):\n",
    "    \"\"\"\n",
    "    Calculates the lowest value of the time series x.\n",
    "\n",
    "    :param x: the time series to calculate the feature of\n",
    "    :type x: pandas.Series\n",
    "    :return: the value of this feature\n",
    "    :return type: float\n",
    "    \"\"\"\n",
    "    return np.min(x)"
   ]
  },
  {
   "cell_type": "code",
   "execution_count": 236,
   "metadata": {},
   "outputs": [
    {
     "data": {
      "text/plain": [
       "28.86"
      ]
     },
     "execution_count": 236,
     "metadata": {},
     "output_type": "execute_result"
    }
   ],
   "source": [
    "minimum(a)"
   ]
  },
  {
   "cell_type": "markdown",
   "metadata": {},
   "source": [
    "## 21- Mean"
   ]
  },
  {
   "cell_type": "code",
   "execution_count": 237,
   "metadata": {},
   "outputs": [],
   "source": [
    "def mean(x):\n",
    "    \"\"\"\n",
    "    Returns the mean of x\n",
    "\n",
    "    :param x: the time series to calculate the feature of\n",
    "    :type x: pandas.Series\n",
    "    :return: the value of this feature\n",
    "    :return type: float\n",
    "    \"\"\"\n",
    "    return np.mean(x)\n"
   ]
  },
  {
   "cell_type": "code",
   "execution_count": 238,
   "metadata": {},
   "outputs": [
    {
     "data": {
      "text/plain": [
       "49.8126953125"
      ]
     },
     "execution_count": 238,
     "metadata": {},
     "output_type": "execute_result"
    }
   ],
   "source": [
    "mean(a)"
   ]
  },
  {
   "cell_type": "markdown",
   "metadata": {},
   "source": [
    "## 22- Median"
   ]
  },
  {
   "cell_type": "code",
   "execution_count": 245,
   "metadata": {},
   "outputs": [],
   "source": [
    "def median(x):\n",
    "    \"\"\"\n",
    "    Returns the median of x\n",
    "\n",
    "    :param x: the time series to calculate the feature of\n",
    "    :type x: pandas.Series\n",
    "    :return: the value of this feature\n",
    "    :return type: float\n",
    "    \"\"\"\n",
    "    return np.median(x)"
   ]
  },
  {
   "cell_type": "code",
   "execution_count": 246,
   "metadata": {},
   "outputs": [
    {
     "data": {
      "text/plain": [
       "49.875"
      ]
     },
     "execution_count": 246,
     "metadata": {},
     "output_type": "execute_result"
    }
   ],
   "source": [
    "median(a)"
   ]
  },
  {
   "cell_type": "markdown",
   "metadata": {},
   "source": [
    "## 22- Standard deviation"
   ]
  },
  {
   "cell_type": "code",
   "execution_count": 275,
   "metadata": {},
   "outputs": [],
   "source": [
    "def standard_deviation(x):\n",
    "    \"\"\"\n",
    "    Returns the standard deviation of x\n",
    "\n",
    "    :param x: the time series to calculate the feature of\n",
    "    :type x: pandas.Series\n",
    "    :return: the value of this feature\n",
    "    :return type: float\n",
    "    \"\"\"\n",
    "    return np.std(x)"
   ]
  },
  {
   "cell_type": "code",
   "execution_count": 276,
   "metadata": {},
   "outputs": [
    {
     "data": {
      "text/plain": [
       "11.577396525705403"
      ]
     },
     "execution_count": 276,
     "metadata": {},
     "output_type": "execute_result"
    }
   ],
   "source": [
    "standard_deviation(a)"
   ]
  },
  {
   "cell_type": "markdown",
   "metadata": {},
   "source": [
    "## 23- Variance"
   ]
  },
  {
   "cell_type": "code",
   "execution_count": null,
   "metadata": {},
   "outputs": [],
   "source": [
    "def variance(x):\n",
    "    \"\"\"\n",
    "    Returns the variance of x\n",
    "\n",
    "    :param x: the time series to calculate the feature of\n",
    "    :type x: pandas.Series\n",
    "    :return: the value of this feature\n",
    "    :return type: float\n",
    "    \"\"\"\n",
    "    return np.var(x)"
   ]
  },
  {
   "cell_type": "code",
   "execution_count": 282,
   "metadata": {},
   "outputs": [
    {
     "data": {
      "text/plain": [
       "134.03611031341552"
      ]
     },
     "execution_count": 282,
     "metadata": {},
     "output_type": "execute_result"
    }
   ],
   "source": [
    "variance(a)"
   ]
  },
  {
   "cell_type": "markdown",
   "metadata": {},
   "source": [
    "## 24- Mean absolute change"
   ]
  },
  {
   "cell_type": "code",
   "execution_count": 239,
   "metadata": {},
   "outputs": [],
   "source": [
    "def mean_abs_change(x):\n",
    "    \"\"\"\n",
    "    Returns the mean over the absolute differences between subsequent time series values which is\n",
    "\n",
    "    .. math::\n",
    "\n",
    "        \\\\frac{1}{n} \\\\sum_{i=1,\\ldots, n-1} | x_{i+1} - x_{i}|\n",
    "\n",
    "\n",
    "    :param x: the time series to calculate the feature of\n",
    "    :type x: pandas.Series\n",
    "    :return: the value of this feature\n",
    "    :return type: float\n",
    "    \"\"\"\n",
    "    return np.mean(np.abs(np.diff(x)))\n",
    "\n"
   ]
  },
  {
   "cell_type": "code",
   "execution_count": 240,
   "metadata": {},
   "outputs": [
    {
     "data": {
      "text/plain": [
       "1.4590196078431372"
      ]
     },
     "execution_count": 240,
     "metadata": {},
     "output_type": "execute_result"
    }
   ],
   "source": [
    "mean_abs_change(a)"
   ]
  },
  {
   "cell_type": "markdown",
   "metadata": {},
   "source": [
    "## 25- Mean change"
   ]
  },
  {
   "cell_type": "code",
   "execution_count": 241,
   "metadata": {},
   "outputs": [],
   "source": [
    "def mean_change(x):\n",
    "    \"\"\"\n",
    "    Returns the mean over the differences between subsequent time series values which is\n",
    "\n",
    "    .. math::\n",
    "\n",
    "        \\\\frac{1}{n} \\\\sum_{i=1,\\ldots, n-1}  x_{i+1} - x_{i}\n",
    "\n",
    "    :param x: the time series to calculate the feature of\n",
    "    :type x: pandas.Series\n",
    "    :return: the value of this feature\n",
    "    :return type: float\n",
    "    \"\"\"\n",
    "    return np.mean(np.diff(x))"
   ]
  },
  {
   "cell_type": "code",
   "execution_count": 242,
   "metadata": {},
   "outputs": [
    {
     "data": {
      "text/plain": [
       "-0.012666666666666626"
      ]
     },
     "execution_count": 242,
     "metadata": {},
     "output_type": "execute_result"
    }
   ],
   "source": [
    "mean_change(a)"
   ]
  },
  {
   "cell_type": "markdown",
   "metadata": {},
   "source": [
    "## 26- Mean second derivative central"
   ]
  },
  {
   "cell_type": "code",
   "execution_count": 243,
   "metadata": {},
   "outputs": [],
   "source": [
    "def mean_second_derivative_central(x):\n",
    "    \"\"\"\n",
    "    Returns the mean value of a central approximation of the second derivative\n",
    "\n",
    "    .. math::\n",
    "\n",
    "        \\\\frac{1}{n} \\\\sum_{i=1,\\ldots, n-1}  \\\\frac{1}{2} (x_{i+2} - 2 \\\\cdot x_{i+1} + x_i)\n",
    "\n",
    "    :param x: the time series to calculate the feature of\n",
    "    :type x: pandas.Series\n",
    "    :return: the value of this feature\n",
    "    :return type: float\n",
    "    \"\"\"\n",
    "\n",
    "    diff = (_roll(x, 1) - 2 * np.array(x) + _roll(x, -1)) / 2.0\n",
    "    return np.mean(diff[1:-1])"
   ]
  },
  {
   "cell_type": "code",
   "execution_count": 244,
   "metadata": {},
   "outputs": [
    {
     "data": {
      "text/plain": [
       "-0.0019488188976377642"
      ]
     },
     "execution_count": 244,
     "metadata": {},
     "output_type": "execute_result"
    }
   ],
   "source": [
    "mean_second_derivative_central(a)"
   ]
  },
  {
   "cell_type": "markdown",
   "metadata": {},
   "source": [
    "## 27- Number peaks"
   ]
  },
  {
   "cell_type": "code",
   "execution_count": 44,
   "metadata": {},
   "outputs": [],
   "source": [
    "def number_peaks(x, n):\n",
    "    \"\"\"\n",
    "    Calculates the number of peaks of at least support n in the time series x. A peak of support n is defined as a\n",
    "    subsequence of x where a value occurs, which is bigger than its n neighbours to the left and to the right.\n",
    "\n",
    "    Hence in the sequence\n",
    "\n",
    "    >>> x = [3, 0, 0, 4, 0, 0, 13]\n",
    "\n",
    "    4 is a peak of support 1 and 2 because in the subsequences\n",
    "\n",
    "    >>> [0, 4, 0]\n",
    "    >>> [0, 0, 4, 0, 0]\n",
    "\n",
    "    4 is still the highest value. Here, 4 is not a peak of support 3 because 13 is the 3th neighbour to the right of 4\n",
    "    and its bigger than 4.\n",
    "\n",
    "    :param x: the time series to calculate the feature of\n",
    "    :type x: pandas.Series\n",
    "    :param n: the support of the peak\n",
    "    :type n: int\n",
    "    :return: the value of this feature\n",
    "    :return type: float\n",
    "    \"\"\"\n",
    "    x_reduced = x[n:-n]\n",
    "\n",
    "    res = None\n",
    "    for i in range(1, n + 1):\n",
    "        result_first = (x_reduced > _roll(x, i)[n:-n])\n",
    "\n",
    "        if res is None:\n",
    "            res = result_first\n",
    "        else:\n",
    "            res &= result_first\n",
    "\n",
    "        res &= (x_reduced > _roll(x, -i)[n:-n])\n",
    "    return np.sum(res)"
   ]
  },
  {
   "cell_type": "code",
   "execution_count": 46,
   "metadata": {},
   "outputs": [],
   "source": [
    "param=[{\"n\": n} for n in [1, 3, 5, 10, 50]]"
   ]
  },
  {
   "cell_type": "code",
   "execution_count": 254,
   "metadata": {},
   "outputs": [
    {
     "data": {
      "text/plain": [
       "[59, 21, 16, 7, 1]"
      ]
     },
     "execution_count": 254,
     "metadata": {},
     "output_type": "execute_result"
    }
   ],
   "source": [
    "[number_peaks(a, value) for dic in param for key,value in dic.items()]"
   ]
  },
  {
   "cell_type": "markdown",
   "metadata": {},
   "source": [
    "## 28- Partial autocorrelation"
   ]
  },
  {
   "cell_type": "code",
   "execution_count": 69,
   "metadata": {},
   "outputs": [],
   "source": [
    "def partial_autocorrelation(x, param):\n",
    "    \"\"\"\n",
    "    Calculates the value of the partial autocorrelation function at the given lag. The lag `k` partial autocorrelation\n",
    "    of a time series :math:`\\\\lbrace x_t, t = 1 \\\\ldots T \\\\rbrace` equals the partial correlation of :math:`x_t` and\n",
    "    :math:`x_{t-k}`, adjusted for the intermediate variables\n",
    "    :math:`\\\\lbrace x_{t-1}, \\\\ldots, x_{t-k+1} \\\\rbrace` ([1]).\n",
    "    Following [2], it can be defined as\n",
    "\n",
    "    .. math::\n",
    "\n",
    "        \\\\alpha_k = \\\\frac{ Cov(x_t, x_{t-k} | x_{t-1}, \\\\ldots, x_{t-k+1})}\n",
    "        {\\\\sqrt{ Var(x_t | x_{t-1}, \\\\ldots, x_{t-k+1}) Var(x_{t-k} | x_{t-1}, \\\\ldots, x_{t-k+1} )}}\n",
    "\n",
    "    with (a) :math:`x_t = f(x_{t-1}, \\\\ldots, x_{t-k+1})` and (b) :math:`x_{t-k} = f(x_{t-1}, \\\\ldots, x_{t-k+1})`\n",
    "    being AR(k-1) models that can be fitted by OLS. Be aware that in (a), the regression is done on past values to\n",
    "    predict :math:`x_t` whereas in (b), future values are used to calculate the past value :math:`x_{t-k}`.\n",
    "    It is said in [1] that \"for an AR(p), the partial autocorrelations [ :math:`\\\\alpha_k` ] will be nonzero for `k<=p`\n",
    "    and zero for `k>p`.\"\n",
    "    With this property, it is used to determine the lag of an AR-Process.\n",
    "\n",
    "    .. rubric:: References\n",
    "\n",
    "    |  [1] Box, G. E., Jenkins, G. M., Reinsel, G. C., & Ljung, G. M. (2015).\n",
    "    |  Time series analysis: forecasting and control. John Wiley & Sons.\n",
    "    |  [2] https://onlinecourses.science.psu.edu/stat510/node/62\n",
    "\n",
    "    :param x: the time series to calculate the feature of\n",
    "    :type x: pandas.Series\n",
    "    :param param: contains dictionaries {\"lag\": val} with int val indicating the lag to be returned\n",
    "    :type param: list\n",
    "    :return: the value of this feature\n",
    "    :return type: float\n",
    "    \"\"\"\n",
    "    # Check the difference between demanded lags by param and possible lags to calculate (depends on len(x))\n",
    "    max_demanded_lag = max([lag[\"lag\"] for lag in param])\n",
    "    n = len(x)\n",
    "\n",
    "    # Check if list is too short to make calculations\n",
    "    if n <= 1:\n",
    "        pacf_coeffs = [np.nan] * (max_demanded_lag + 1)\n",
    "    else:\n",
    "        if (n <= max_demanded_lag):\n",
    "            max_lag = n - 1\n",
    "        else:\n",
    "            max_lag = max_demanded_lag\n",
    "        pacf_coeffs = list(pacf(x, method=\"ld\", nlags=max_lag))\n",
    "        pacf_coeffs = pacf_coeffs + [np.nan] * max(0, (max_demanded_lag - max_lag))\n",
    "\n",
    "    return [(\"lag_{}\".format(lag[\"lag\"]), pacf_coeffs[lag[\"lag\"]]) for lag in param]"
   ]
  },
  {
   "cell_type": "code",
   "execution_count": 70,
   "metadata": {},
   "outputs": [],
   "source": [
    "param=[{\"lag\": lag} for lag in range(1,10)]"
   ]
  },
  {
   "cell_type": "code",
   "execution_count": 72,
   "metadata": {},
   "outputs": [
    {
     "data": {
      "text/plain": [
       "[('lag_1', 0.9761410305071759),\n",
       " ('lag_2', -0.06487979481196744),\n",
       " ('lag_3', 0.053147329358875825),\n",
       " ('lag_4', 0.002578814060246973),\n",
       " ('lag_5', -0.06852204928201464),\n",
       " ('lag_6', -0.03247478232751957),\n",
       " ('lag_7', -0.02145131397678854),\n",
       " ('lag_8', -0.08381942079229313),\n",
       " ('lag_9', -0.02411855801657389)]"
      ]
     },
     "execution_count": 72,
     "metadata": {},
     "output_type": "execute_result"
    }
   ],
   "source": [
    "partial_autocorrelation(a, param)"
   ]
  },
  {
   "cell_type": "markdown",
   "metadata": {},
   "source": [
    "## 29 - Partial autocorrelogram"
   ]
  },
  {
   "cell_type": "code",
   "execution_count": 98,
   "metadata": {},
   "outputs": [],
   "source": [
    "def plot_partial_autocorrelogram(x, param):\n",
    "    \"\"\"\n",
    "  \n",
    "\n",
    "    :param x: the time series to calculate the feature of\n",
    "    :type x: pandas.Series\n",
    "    :param param: contains dictionaries {\"lag\": val} with int val indicating the lag to be returned\n",
    "    :type param: list\n",
    "    :return: plot of partial autocorrelogram\n",
    "    :return type: pyplot\n",
    "    \"\"\"\n",
    "    # Check the difference between demanded lags by param and possible lags to calculate (depends on len(x))\n",
    "\n",
    "    maxlag= max([lag[\"lag\"] for lag in param])\n",
    "    # Plot \n",
    "    \n",
    "    plot_pacf(x, lags=list_lags, zero=False)"
   ]
  },
  {
   "cell_type": "code",
   "execution_count": 99,
   "metadata": {},
   "outputs": [
    {
     "data": {
      "image/png": "[encoded data removed]",
      "text/plain": [
       "<Figure size 432x288 with 1 Axes>"
      ]
     },
     "metadata": {
      "needs_background": "light"
     },
     "output_type": "display_data"
    }
   ],
   "source": [
    "plot_partial_autocorrelogram(a, param)"
   ]
  },
  {
   "cell_type": "markdown",
   "metadata": {},
   "source": [
    "## 29- Percentage of reoccurring values to all values"
   ]
  },
  {
   "cell_type": "code",
   "execution_count": 260,
   "metadata": {},
   "outputs": [],
   "source": [
    "def percentage_of_reoccurring_values_to_all_values(x):\n",
    "    \"\"\"\n",
    "    Returns the ratio of unique values, that are present in the time series\n",
    "    more than once.\n",
    "\n",
    "        # of data points occurring more than once / # of all data points\n",
    "\n",
    "    This means the ratio is normalized to the number of data points in the time series,\n",
    "    in contrast to the percentage_of_reoccurring_datapoints_to_all_datapoints.\n",
    "\n",
    "    :param x: the time series to calculate the feature of\n",
    "    :type x: pandas.Series\n",
    "    :return: the value of this feature\n",
    "    :return type: float\n",
    "    \"\"\"\n",
    "    if not isinstance(x, pd.Series):\n",
    "        x = pd.Series(x)\n",
    "\n",
    "    if x.size == 0:\n",
    "        return np.nan\n",
    "\n",
    "    value_counts = x.value_counts()\n",
    "    reoccuring_values = value_counts[value_counts > 1].sum()\n",
    "\n",
    "    if np.isnan(reoccuring_values):\n",
    "        return 0\n",
    "\n",
    "    return reoccuring_values / x.size"
   ]
  },
  {
   "cell_type": "code",
   "execution_count": 261,
   "metadata": {},
   "outputs": [
    {
     "data": {
      "text/plain": [
       "0.078125"
      ]
     },
     "execution_count": 261,
     "metadata": {},
     "output_type": "execute_result"
    }
   ],
   "source": [
    "percentage_of_reoccurring_values_to_all_values(a)"
   ]
  },
  {
   "cell_type": "markdown",
   "metadata": {},
   "source": [
    "## 30- Quantile"
   ]
  },
  {
   "cell_type": "code",
   "execution_count": 262,
   "metadata": {},
   "outputs": [],
   "source": [
    "def quantile(x, q):\n",
    "    \"\"\"\n",
    "    Calculates the q quantile of x. This is the value of x greater than q% of the ordered values from x.\n",
    "\n",
    "    :param x: the time series to calculate the feature of\n",
    "    :type x: pandas.Series\n",
    "    :param q: the quantile to calculate\n",
    "    :type q: float\n",
    "    :return: the value of this feature\n",
    "    :return type: float\n",
    "    \"\"\"\n",
    "    x = pd.Series(x)\n",
    "    return pd.Series.quantile(x, q)"
   ]
  },
  {
   "cell_type": "code",
   "execution_count": 265,
   "metadata": {},
   "outputs": [],
   "source": [
    "param=[{\"q\": q} for q in [.1, .2, .3, .4, .6, .7, .8, .9]]"
   ]
  },
  {
   "cell_type": "code",
   "execution_count": 266,
   "metadata": {},
   "outputs": [
    {
     "data": {
      "text/plain": [
       "[35.415000000000006,\n",
       " 38.9,\n",
       " 42.11,\n",
       " 44.62,\n",
       " 52.88,\n",
       " 55.165000000000006,\n",
       " 57.91,\n",
       " 69.4]"
      ]
     },
     "execution_count": 266,
     "metadata": {},
     "output_type": "execute_result"
    }
   ],
   "source": [
    "[quantile(a, value) for dic in param for key,value in dic.items()]"
   ]
  },
  {
   "cell_type": "markdown",
   "metadata": {},
   "source": [
    "## 31- Ratio beyond r*sigma"
   ]
  },
  {
   "cell_type": "code",
   "execution_count": 270,
   "metadata": {},
   "outputs": [],
   "source": [
    "def ratio_beyond_r_sigma(x, r):\n",
    "    \"\"\"\n",
    "    Ratio of values that are more than r*std(x) (so r sigma) away from the mean of x.\n",
    "\n",
    "    :param x: the time series to calculate the feature of\n",
    "    :type x: iterable\n",
    "    :return: the value of this feature\n",
    "    :return type: float\n",
    "    \"\"\"\n",
    "    if not isinstance(x, (np.ndarray, pd.Series)):\n",
    "        x = np.asarray(x)\n",
    "    return np.sum(np.abs(x - np.mean(x)) > r * np.std(x))/x.size"
   ]
  },
  {
   "cell_type": "code",
   "execution_count": 271,
   "metadata": {},
   "outputs": [],
   "source": [
    "param=[{\"r\": x} for x in [0.5, 1, 1.5, 2, 2.5, 3, 5, 6, 7, 10]]"
   ]
  },
  {
   "cell_type": "code",
   "execution_count": 272,
   "metadata": {},
   "outputs": [
    {
     "data": {
      "text/plain": [
       "[0.66796875, 0.3515625, 0.15234375, 0.015625, 0.0, 0.0, 0.0, 0.0, 0.0, 0.0]"
      ]
     },
     "execution_count": 272,
     "metadata": {},
     "output_type": "execute_result"
    }
   ],
   "source": [
    "[ratio_beyond_r_sigma(a, value) for dic in param for key,value in dic.items()]"
   ]
  },
  {
   "cell_type": "markdown",
   "metadata": {},
   "source": [
    "## 32- Skewness"
   ]
  },
  {
   "cell_type": "code",
   "execution_count": 273,
   "metadata": {},
   "outputs": [],
   "source": [
    "def skewness(x):\n",
    "    \"\"\"\n",
    "    Returns the sample skewness of x (calculated with the adjusted Fisher-Pearson standardized\n",
    "    moment coefficient G1).\n",
    "\n",
    "    :param x: the time series to calculate the feature of\n",
    "    :type x: pandas.Series\n",
    "    :return: the value of this feature\n",
    "    :return type: float\n",
    "    \"\"\"\n",
    "    if not isinstance(x, pd.Series):\n",
    "        x = pd.Series(x)\n",
    "    return pd.Series.skew(x)"
   ]
  },
  {
   "cell_type": "code",
   "execution_count": 274,
   "metadata": {},
   "outputs": [
    {
     "data": {
      "text/plain": [
       "0.39076150366933265"
      ]
     },
     "execution_count": 274,
     "metadata": {},
     "output_type": "execute_result"
    }
   ],
   "source": [
    "skewness(a)"
   ]
  },
  {
   "cell_type": "markdown",
   "metadata": {},
   "source": [
    "## 33- Time reversal asymmetry statistic"
   ]
  },
  {
   "cell_type": "code",
   "execution_count": 36,
   "metadata": {},
   "outputs": [],
   "source": [
    "def time_reversal_asymmetry_statistic(x, lag):\n",
    "    \"\"\"\n",
    "    This function calculates the value of\n",
    "\n",
    "    .. math::\n",
    "\n",
    "        \\\\frac{1}{n-2lag} \\sum_{i=0}^{n-2lag} x_{i + 2 \\cdot lag}^2 \\cdot x_{i + lag} - x_{i + lag} \\cdot  x_{i}^2\n",
    "\n",
    "    which is\n",
    "\n",
    "    .. math::\n",
    "\n",
    "        \\\\mathbb{E}[L^2(X)^2 \\cdot L(X) - L(X) \\cdot X^2]\n",
    "\n",
    "    where :math:`\\\\mathbb{E}` is the mean and :math:`L` is the lag operator. It was proposed in [1] as a\n",
    "    promising feature to extract from time series.\n",
    "\n",
    "    .. rubric:: References\n",
    "\n",
    "    |  [1] Fulcher, B.D., Jones, N.S. (2014).\n",
    "    |  Highly comparative feature-based time-series classification.\n",
    "    |  Knowledge and Data Engineering, IEEE Transactions on 26, 3026–3037.\n",
    "\n",
    "    :param x: the time series to calculate the feature of\n",
    "    :type x: pandas.Series\n",
    "    :param lag: the lag that should be used in the calculation of the feature\n",
    "    :type lag: int\n",
    "    :return: the value of this feature\n",
    "    :return type: float\n",
    "    \"\"\"\n",
    "    n = len(x)\n",
    "    x = np.asarray(x)\n",
    "    if 2 * lag >= n:\n",
    "        return 0\n",
    "    else:\n",
    "        one_lag = _roll(x, -lag)\n",
    "        two_lag = _roll(x, 2 * -lag)\n",
    "        return np.mean((two_lag * two_lag * one_lag - one_lag * x * x)[0:(n - 2 * lag)])"
   ]
  },
  {
   "cell_type": "code",
   "execution_count": 280,
   "metadata": {},
   "outputs": [],
   "source": [
    "param=[{\"lag\": lag} for lag in range(1, 4)]"
   ]
  },
  {
   "cell_type": "code",
   "execution_count": 281,
   "metadata": {},
   "outputs": [
    {
     "data": {
      "text/plain": [
       "[-131.56622753543212, 11.282724115079166, 204.32424186800048]"
      ]
     },
     "execution_count": 281,
     "metadata": {},
     "output_type": "execute_result"
    }
   ],
   "source": [
    "[time_reversal_asymmetry_statistic(a, value) for dic in param for key,value in dic.items()]"
   ]
  },
  {
   "cell_type": "markdown",
   "metadata": {},
   "source": [
    "## 34- Approximate entropy"
   ]
  },
  {
   "cell_type": "code",
   "execution_count": 222,
   "metadata": {},
   "outputs": [],
   "source": [
    "def approximate_entropy(x, m, r):\n",
    "    \"\"\"\n",
    "    Implements a vectorized Approximate entropy algorithm.\n",
    "\n",
    "        https://en.wikipedia.org/wiki/Approximate_entropy\n",
    "\n",
    "\n",
    "    Other shortcomings and alternatives discussed in:\n",
    "\n",
    "        Richman & Moorman (2000) -\n",
    "        *Physiological time-series analysis using approximate entropy and sample entropy*\n",
    "\n",
    "    :param x: the time series to calculate the feature of\n",
    "    :type x: pandas.Series\n",
    "    :param m: Length of compared run of data\n",
    "    :type m: int\n",
    "    :param r: Filtering level, must be positive\n",
    "    :type r: float\n",
    "\n",
    "    :return: Approximate entropy\n",
    "    :return type: float\n",
    "    \"\"\"\n",
    "    if not isinstance(x, (np.ndarray, pd.Series)):\n",
    "        x = np.asarray(x)\n",
    "\n",
    "    N = x.size\n",
    "    r *= np.std(x)\n",
    "    if r < 0:\n",
    "        raise ValueError(\"Parameter r must be positive.\")\n",
    "    if N <= m+1:\n",
    "        return 0\n",
    "\n",
    "    def _phi(m):\n",
    "        x_re = np.array([x[i:i+m] for i in range(N - m + 1)])\n",
    "        C = np.sum(np.max(np.abs(x_re[:, np.newaxis] - x_re[np.newaxis, :]),\n",
    "                          axis=2) <= r, axis=0) / (N-m+1)\n",
    "        C=list(filter(lambda a: a != 0, C))\n",
    "        return np.sum(np.log(C)) / (N - m + 1.0)\n",
    "        \n",
    "\n",
    "    return np.abs(_phi(m) - _phi(m + 1))\n",
    "\n"
   ]
  },
  {
   "cell_type": "code",
   "execution_count": 225,
   "metadata": {},
   "outputs": [
    {
     "data": {
      "text/plain": [
       "0.009261757403115307"
      ]
     },
     "execution_count": 225,
     "metadata": {},
     "output_type": "execute_result"
    }
   ],
   "source": [
    "approximate_entropy(a, 2, 3)"
   ]
  },
  {
   "cell_type": "markdown",
   "metadata": {},
   "source": [
    "## 34- Sample entropy"
   ]
  },
  {
   "cell_type": "code",
   "execution_count": 70,
   "metadata": {},
   "outputs": [],
   "source": [
    "def sample_entropy(x):\n",
    "    \"\"\"\n",
    "    Calculate and return sample entropy of x.\n",
    "\n",
    "    .. rubric:: References\n",
    "\n",
    "    |  [1] http://en.wikipedia.org/wiki/Sample_Entropy\n",
    "    |  [2] https://www.ncbi.nlm.nih.gov/pubmed/10843903?dopt=Abstract\n",
    "\n",
    "    :param x: the time series to calculate the feature of\n",
    "    :type x: numpy.ndarray\n",
    "\n",
    "    :return: the value of this feature\n",
    "    :return type: float\n",
    "    \"\"\"\n",
    "    x = np.array(x)\n",
    "\n",
    "    sample_length = 1 # number of sequential points of the time series\n",
    "    tolerance = 0.2 * np.std(x) # 0.2 is a common value for r - why?\n",
    "\n",
    "    n = len(x)\n",
    "    prev = np.zeros(n)\n",
    "    curr = np.zeros(n)\n",
    "    A = np.zeros((1, 1))  # number of matches for m = [1,...,template_length - 1]\n",
    "    B = np.zeros((1, 1))  # number of matches for m = [1,...,template_length]\n",
    "\n",
    "    for i in range(n - 1):\n",
    "        nj = n - i - 1\n",
    "        ts1 = x[i]\n",
    "        for jj in range(nj):\n",
    "            j = jj + i + 1\n",
    "            if abs(x[j] - ts1) < tolerance:  # distance between two vectors\n",
    "                curr[jj] = prev[jj] + 1\n",
    "                temp_ts_length = min(sample_length, curr[jj])\n",
    "                for m in range(int(temp_ts_length)):\n",
    "                    A[m] += 1\n",
    "                    if j < n - 1:\n",
    "                        B[m] += 1\n",
    "            else:\n",
    "                curr[jj] = 0\n",
    "        for j in range(nj):\n",
    "            prev[j] = curr[j]\n",
    "\n",
    "    N = n * (n - 1) / 2\n",
    "    B = np.vstack(([N], B[0]))\n",
    "\n",
    "    # sample entropy = -1 * (log (A/B))\n",
    "    similarity_ratio = A / B\n",
    "    se = -1 * np.log(similarity_ratio)\n",
    "    se = np.reshape(se, -1)\n",
    "    return se[0]"
   ]
  },
  {
   "cell_type": "code",
   "execution_count": 301,
   "metadata": {},
   "outputs": [
    {
     "data": {
      "text/plain": [
       "inf"
      ]
     },
     "execution_count": 301,
     "metadata": {},
     "output_type": "execute_result"
    }
   ],
   "source": [
    "sample_entropy(a)"
   ]
  },
  {
   "cell_type": "markdown",
   "metadata": {},
   "source": [
    "## 35- Hurst exposant"
   ]
  },
  {
   "cell_type": "markdown",
   "metadata": {},
   "source": [
    "#### Test sur un vrai random walk"
   ]
  },
  {
   "cell_type": "code",
   "execution_count": 419,
   "metadata": {},
   "outputs": [],
   "source": [
    "# series = random_walk(99999, cumprod=True)\n",
    "list_random_walk=[]\n",
    "list_hurst_mb=[]\n",
    "np.random.seed(42)\n",
    "  \n",
    "\n",
    "for i in range(50):\n",
    "    \n",
    "    # create a random walk from random changes\n",
    "    series = random_walk(50000, proba=0.5)\n",
    "    \n",
    "    # Evaluate Hurst equation\n",
    "    H=compute_Hc(series, kind='random_walk', simplified=True)[0]\n",
    "    list_hurst_mb.append(H)"
   ]
  },
  {
   "cell_type": "code",
   "execution_count": 423,
   "metadata": {},
   "outputs": [
    {
     "data": {
      "image/png": "[encoded data removed]",
      "text/plain": [
       "<Figure size 432x288 with 1 Axes>"
      ]
     },
     "metadata": {
      "needs_background": "light"
     },
     "output_type": "display_data"
    }
   ],
   "source": [
    "# Plot\n",
    "f, ax = plt.subplots()\n",
    "x_range=['ts'+str(i) for i in range(50)]\n",
    "y_range=[0.5]*50\n",
    "ax.plot(x_range, y_range, color=\"deepskyblue\")\n",
    "\n",
    "ax.scatter( x_range,list_hurst_mb, color=\"purple\")\n",
    "ax.set_xlabel('Series names')\n",
    "ax.set_ylabel('Hurst exposant value')\n",
    "ax.set_title('Hurst Mouvement Brownien')\n",
    "plt.savefig('Hurst Mouvement brownien')\n",
    "plt.show()"
   ]
  },
  {
   "cell_type": "code",
   "execution_count": 448,
   "metadata": {},
   "outputs": [
    {
     "data": {
      "image/png": "[encoded data removed]",
      "text/plain": [
       "<Figure size 432x288 with 1 Axes>"
      ]
     },
     "metadata": {
      "needs_background": "light"
     },
     "output_type": "display_data"
    }
   ],
   "source": [
    "series = random_walk(50000, proba=0.5)\n",
    "plt.plot(series)\n",
    "plt.title('Mouvement Brownien')\n",
    "plt.savefig('Mouvement Brownien')"
   ]
  },
  {
   "cell_type": "code",
   "execution_count": 60,
   "metadata": {},
   "outputs": [],
   "source": [
    "def plot_ts_ticker(ticker,n):\n",
    "                df_test=df_close_full[ticker]\n",
    "                df_test=df_test.dropna()\n",
    "                L=[]\n",
    "                for i in range(len(df_test)):\n",
    "                    if i+256<len(df_test):\n",
    "                        L.append(df_test[i:i+256])  \n",
    "\n",
    "\n",
    "                # Plot\n",
    "                plt.plot(L[n])\n",
    "                plt.title('Time Series Ticker'+' '+str(ticker))\n",
    "                plt.savefig('ticker'+str(ticker))"
   ]
  },
  {
   "cell_type": "markdown",
   "metadata": {},
   "source": [
    "#### Test sur notre data (Ticker 22)"
   ]
  },
  {
   "cell_type": "code",
   "execution_count": 425,
   "metadata": {},
   "outputs": [],
   "source": [
    "df_test=df_close_full[22]\n",
    "df_test=df_test.dropna()\n",
    "list_df_22=[]\n",
    "for i in range(len(df_test)):\n",
    "    if i+256<len(df_test):\n",
    "        list_df_22.append(df_test[i:i+256])  \n",
    "\n",
    "\n",
    "list_hurst=[]\n",
    "np.random.seed(42)\n",
    "  \n",
    "\n",
    "for i in range(100):\n",
    "    \n",
    "    # create a random walk from random changes\n",
    "    series = list_df_22[i]\n",
    "    \n",
    "    # Evaluate Hurst equation\n",
    "    H=compute_Hc(series, kind='price', simplified=True)[0]\n",
    "    list_hurst.append(H)"
   ]
  },
  {
   "cell_type": "code",
   "execution_count": 427,
   "metadata": {},
   "outputs": [
    {
     "data": {
      "image/png": "[encoded data removed]",
      "text/plain": [
       "<Figure size 432x288 with 1 Axes>"
      ]
     },
     "metadata": {
      "needs_background": "light"
     },
     "output_type": "display_data"
    }
   ],
   "source": [
    "# Plot\n",
    "f, ax = plt.subplots()\n",
    "x_range=['ts'+str(i) for i in range(100)]\n",
    "y_range=[0.5]*100\n",
    "ax.plot(x_range, y_range, color=\"deepskyblue\")\n",
    "ax.scatter( x_range,list_hurst, color=\"purple\")\n",
    "ax.set_xlabel('Series names')\n",
    "ax.set_ylabel('Hurst exposant value')\n",
    "ax.set_title('Hurst Ticker 22')\n",
    "plt.savefig('ticker 22 hurst')\n",
    "plt.show()"
   ]
  },
  {
   "cell_type": "code",
   "execution_count": 467,
   "metadata": {},
   "outputs": [
    {
     "data": {
      "image/png": "[encoded data removed]",
      "text/plain": [
       "<Figure size 432x288 with 1 Axes>"
      ]
     },
     "metadata": {
      "needs_background": "light"
     },
     "output_type": "display_data"
    }
   ],
   "source": [
    "plot_ts_ticker(22,0)"
   ]
  },
  {
   "cell_type": "code",
   "execution_count": 297,
   "metadata": {},
   "outputs": [],
   "source": [
    "df_test=df_close_full[22]\n",
    "df_test=df_test.dropna()\n",
    "L=[]\n",
    "for i in range(len(df_test)):\n",
    "            if i+256<len(df_test):\n",
    "                    L.append(df_test[i:i+256])  "
   ]
  },
  {
   "cell_type": "code",
   "execution_count": 336,
   "metadata": {},
   "outputs": [],
   "source": [
    "def plot_hurst(data_list): \n",
    "\n",
    "                list_hurst=[]\n",
    "                np.random.seed(42)\n",
    "\n",
    "                for i in range(len(data_list)):\n",
    "\n",
    "                    # create a random walk from random changes\n",
    "                    series = L[i]\n",
    "\n",
    "                    # Evaluate Hurst equation\n",
    "                    H=compute_Hc(series, kind='price', simplified=True)[0]\n",
    "                    list_hurst.append(H)\n",
    "\n",
    "                # Plot\n",
    "                n=len(data_list)\n",
    "                N=int(np.floor(n/10))\n",
    "                f, ax = plt.subplots(figsize=(10,6))\n",
    "                x_range=['ts'+str(i) for i in range(len(data_list))]\n",
    "                y_range=[0.5]*len(data_list)\n",
    "                ax.plot(x_range, y_range, color=\"deepskyblue\")\n",
    "                ax.scatter( x_range,list_hurst, color=\"purple\")\n",
    "                ax.set_xlabel('Series names')\n",
    "                ax.set_ylabel('Hurst exposant value')\n",
    "                ax.set_xticks(ax.get_xticks()[::N])\n",
    "                plt.xticks(x_range[::N], rotation=45)\n",
    "                ax.set_title('Hurst')\n",
    "                plt.savefig('hurst')\n",
    "                plt.show()"
   ]
  },
  {
   "cell_type": "code",
   "execution_count": 452,
   "metadata": {},
   "outputs": [
    {
     "data": {
      "image/png": "[encoded data removed]",
      "text/plain": [
       "<Figure size 432x288 with 1 Axes>"
      ]
     },
     "metadata": {
      "needs_background": "light"
     },
     "output_type": "display_data"
    }
   ],
   "source": [
    " plot_hurst(23)"
   ]
  },
  {
   "cell_type": "code",
   "execution_count": 337,
   "metadata": {},
   "outputs": [
    {
     "data": {
      "image/png": "[encoded data removed]",
      "text/plain": [
       "<Figure size 720x432 with 1 Axes>"
      ]
     },
     "metadata": {
      "needs_background": "light"
     },
     "output_type": "display_data"
    }
   ],
   "source": [
    "plot_hurst(L)"
   ]
  },
  {
   "cell_type": "code",
   "execution_count": 414,
   "metadata": {},
   "outputs": [
    {
     "data": {
      "image/png": "[encoded data removed]",
      "text/plain": [
       "<Figure size 432x288 with 1 Axes>"
      ]
     },
     "metadata": {
      "needs_background": "light"
     },
     "output_type": "display_data"
    }
   ],
   "source": [
    "plot_ts_ticker(23,2)"
   ]
  },
  {
   "cell_type": "code",
   "execution_count": 465,
   "metadata": {},
   "outputs": [
    {
     "data": {
      "image/png": "[encoded data removed]",
      "text/plain": [
       "<Figure size 432x288 with 1 Axes>"
      ]
     },
     "metadata": {
      "needs_background": "light"
     },
     "output_type": "display_data"
    }
   ],
   "source": [
    "plot_ts_ticker(22,20)"
   ]
  },
  {
   "cell_type": "code",
   "execution_count": 466,
   "metadata": {},
   "outputs": [
    {
     "data": {
      "text/plain": [
       "0.003996062992126007"
      ]
     },
     "execution_count": 466,
     "metadata": {},
     "output_type": "execute_result"
    }
   ],
   "source": [
    "df_test=df_close_full[22]\n",
    "df_test=df_test.dropna()\n",
    "L=[]\n",
    "for i in range(len(df_test)):\n",
    "                    if i+256<len(df_test):\n",
    "                        L.append(df_test[i:i+256])\n",
    "                                 \n",
    "mean_second_derivative_central(L[20])"
   ]
  },
  {
   "cell_type": "markdown",
   "metadata": {},
   "source": [
    "# Visualisation des TS pour voir des clusters"
   ]
  },
  {
   "cell_type": "markdown",
   "metadata": {},
   "source": [
    "Plot the whole Time series of a ticker"
   ]
  },
  {
   "cell_type": "code",
   "execution_count": 88,
   "metadata": {},
   "outputs": [],
   "source": [
    "def plot_ts(ticker):\n",
    "                df_test=df_close_full[ticker]\n",
    "                df_test=df_test.dropna()  \n",
    "\n",
    "\n",
    "                # Plot\n",
    "                plt.plot(df_test)\n",
    "                plt.title('Time Series Ticker'+' '+str(ticker))\n",
    "                plt.savefig('ticker'+str(ticker))"
   ]
  },
  {
   "cell_type": "markdown",
   "metadata": {},
   "source": [
    "## Mean"
   ]
  },
  {
   "cell_type": "code",
   "execution_count": 56,
   "metadata": {},
   "outputs": [],
   "source": [
    "def plot_mean(ticker,n):\n",
    "                df_test=df_close_full[ticker]\n",
    "                df_test=df_test.dropna()\n",
    "                L=[]\n",
    "                for i in range(len(df_test)):\n",
    "                    if i+256<len(df_test):\n",
    "                        L.append(df_test[i:i+256])  \n",
    "\n",
    "                y_range=[]\n",
    "                np.random.seed(42)\n",
    "\n",
    "                for i in range(n):\n",
    "\n",
    "                    # create a random walk from random changes\n",
    "                    series = L[i]\n",
    "\n",
    "                    # Evaluate the function\n",
    "                    x=mean(series)\n",
    "                    y_range.append(x)\n",
    "\n",
    "                # Plot\n",
    "                f, ax = plt.subplots()\n",
    "                x_range=['ts'+str(i) for i in range(n)]\n",
    "                ax.scatter( x_range,y_range, color=\"purple\")\n",
    "                ax.set_xlabel('Series names')\n",
    "                ax.set_ylabel('Mean value')\n",
    "                ax.set_title('Mean' +' '+ str(ticker))\n",
    "                plt.savefig('ticker' + str(ticker)+ ' '+ 'mean')\n",
    "                plt.show()"
   ]
  },
  {
   "cell_type": "code",
   "execution_count": 89,
   "metadata": {},
   "outputs": [
    {
     "data": {
      "image/png": "[encoded data removed]",
      "text/plain": [
       "<Figure size 432x288 with 1 Axes>"
      ]
     },
     "metadata": {
      "needs_background": "light"
     },
     "output_type": "display_data"
    }
   ],
   "source": [
    "plot_ts(22)"
   ]
  },
  {
   "cell_type": "code",
   "execution_count": 65,
   "metadata": {},
   "outputs": [
    {
     "data": {
      "image/png": "[encoded data removed]",
      "text/plain": [
       "<Figure size 432x288 with 1 Axes>"
      ]
     },
     "metadata": {
      "needs_background": "light"
     },
     "output_type": "display_data"
    }
   ],
   "source": [
    "plot_ts_ticker(22,0)"
   ]
  },
  {
   "cell_type": "code",
   "execution_count": 58,
   "metadata": {},
   "outputs": [
    {
     "data": {
      "image/png": "[encoded data removed]",
      "text/plain": [
       "<Figure size 432x288 with 1 Axes>"
      ]
     },
     "metadata": {
      "needs_background": "light"
     },
     "output_type": "display_data"
    }
   ],
   "source": [
    "plot_mean(22,1000)"
   ]
  },
  {
   "cell_type": "code",
   "execution_count": 53,
   "metadata": {},
   "outputs": [
    {
     "data": {
      "image/png": "[encoded data removed]",
      "text/plain": [
       "<Figure size 432x288 with 1 Axes>"
      ]
     },
     "metadata": {
      "needs_background": "light"
     },
     "output_type": "display_data"
    }
   ],
   "source": [
    "plot_mean(23,1000)"
   ]
  },
  {
   "cell_type": "markdown",
   "metadata": {},
   "source": [
    "## CID Distance"
   ]
  },
  {
   "cell_type": "code",
   "execution_count": 199,
   "metadata": {},
   "outputs": [],
   "source": [
    "def plot_cid(ticker,n):\n",
    "                df_test=df_close_full[ticker]\n",
    "                df_test=df_test.dropna()\n",
    "                L=[]\n",
    "                for i in range(len(df_test)):\n",
    "                    if i+256<len(df_test):\n",
    "                        L.append(df_test[i:i+256])  \n",
    "\n",
    "                y_range=[]\n",
    "                np.random.seed(42)\n",
    "\n",
    "                for i in range(n):\n",
    "\n",
    "                    # Get the Series\n",
    "                    series = L[i]\n",
    "\n",
    "                    # Evaluate the function\n",
    "                    x=cid_ce(series, normalize=True)\n",
    "                    y_range.append(x)\n",
    "\n",
    "                # Plot\n",
    "                f, ax = plt.subplots()\n",
    "                x_range=['ts'+str(i) for i in range(n)]\n",
    "                ax.scatter( x_range,y_range, color=\"purple\")\n",
    "                ax.set_xlabel('Series names')\n",
    "                ax.set_ylabel('CID value')\n",
    "                ax.set_xticks(ax.get_xticks()[::10])\n",
    "                plt.xticks(x_range[::10], rotation=45)\n",
    "                ax.set_title('CID' +' '+ str(ticker))\n",
    "                plt.savefig('ticker' + str(ticker)+ ' '+ 'CID')\n",
    "                plt.show()"
   ]
  },
  {
   "cell_type": "code",
   "execution_count": 90,
   "metadata": {},
   "outputs": [
    {
     "data": {
      "image/png": "[encoded data removed]",
      "text/plain": [
       "<Figure size 432x288 with 1 Axes>"
      ]
     },
     "metadata": {
      "needs_background": "light"
     },
     "output_type": "display_data"
    }
   ],
   "source": [
    "plot_ts(22)"
   ]
  },
  {
   "cell_type": "code",
   "execution_count": 203,
   "metadata": {},
   "outputs": [
    {
     "data": {
      "image/png": "[encoded data removed]",
      "text/plain": [
       "<Figure size 432x288 with 1 Axes>"
      ]
     },
     "metadata": {
      "needs_background": "light"
     },
     "output_type": "display_data"
    }
   ],
   "source": [
    "plot_cid(22,100)"
   ]
  },
  {
   "cell_type": "code",
   "execution_count": 202,
   "metadata": {},
   "outputs": [
    {
     "data": {
      "image/png": "[encoded data removed]",
      "text/plain": [
       "<Figure size 432x288 with 1 Axes>"
      ]
     },
     "metadata": {
      "needs_background": "light"
     },
     "output_type": "display_data"
    }
   ],
   "source": [
    "plot_ts(23)"
   ]
  },
  {
   "cell_type": "code",
   "execution_count": 204,
   "metadata": {},
   "outputs": [
    {
     "data": {
      "image/png": "[encoded data removed]",
      "text/plain": [
       "<Figure size 432x288 with 1 Axes>"
      ]
     },
     "metadata": {
      "needs_background": "light"
     },
     "output_type": "display_data"
    }
   ],
   "source": [
    "plot_cid(23,100)"
   ]
  },
  {
   "cell_type": "code",
   "execution_count": 205,
   "metadata": {},
   "outputs": [
    {
     "data": {
      "image/png": "[encoded data removed]",
      "text/plain": [
       "<Figure size 432x288 with 1 Axes>"
      ]
     },
     "metadata": {
      "needs_background": "light"
     },
     "output_type": "display_data"
    }
   ],
   "source": [
    "plot_cid(51,100)"
   ]
  },
  {
   "cell_type": "markdown",
   "metadata": {},
   "source": [
    "## Time Reversal asymetric"
   ]
  },
  {
   "cell_type": "code",
   "execution_count": 194,
   "metadata": {},
   "outputs": [],
   "source": [
    "def plot_trev(ticker,n,lag):\n",
    "                df_test=df_close_full[ticker]\n",
    "                df_test=df_test.dropna()\n",
    "                L=[]\n",
    "                for i in range(len(df_test)):\n",
    "                    if i+256<len(df_test):\n",
    "                        L.append(df_test[i:i+256])  \n",
    "\n",
    "                y_range=[]\n",
    "                np.random.seed(42)\n",
    "\n",
    "                for i in range(n):\n",
    "\n",
    "                    # Get the Series\n",
    "                    series = L[i]\n",
    "\n",
    "                    # Evaluate the function\n",
    "                    x=time_reversal_asymmetry_statistic(series, lag)\n",
    "                    y_range.append(x)\n",
    "\n",
    "                # Plot\n",
    "                f, ax = plt.subplots()\n",
    "                x_range=['ts'+str(i) for i in range(n)]\n",
    "                ax.scatter( x_range,y_range, color=\"purple\")\n",
    "                ax.set_xlabel('Series names')\n",
    "                ax.set_ylabel('Time reversal value')\n",
    "                ax.set_title('Time Reversal' +' '+ str(ticker))\n",
    "                \n",
    "                ax.set_xticks(ax.get_xticks()[::10])\n",
    "                plt.xticks(x_range[::10], rotation=45)\n",
    "                plt.savefig('ticker' + str(ticker)+ ' '+ 'Trev')\n",
    "                plt.show()\n"
   ]
  },
  {
   "cell_type": "code",
   "execution_count": 196,
   "metadata": {},
   "outputs": [
    {
     "data": {
      "image/png": "[encoded data removed]",
      "text/plain": [
       "<Figure size 432x288 with 1 Axes>"
      ]
     },
     "metadata": {
      "needs_background": "light"
     },
     "output_type": "display_data"
    }
   ],
   "source": [
    "plot_trev(22,100,4)"
   ]
  },
  {
   "cell_type": "code",
   "execution_count": 197,
   "metadata": {},
   "outputs": [
    {
     "data": {
      "image/png": "[encoded data removed]",
      "text/plain": [
       "<Figure size 432x288 with 1 Axes>"
      ]
     },
     "metadata": {
      "needs_background": "light"
     },
     "output_type": "display_data"
    }
   ],
   "source": [
    "plot_trev(23,100,4)"
   ]
  },
  {
   "cell_type": "code",
   "execution_count": 198,
   "metadata": {},
   "outputs": [
    {
     "data": {
      "image/png": "[encoded data removed]",
      "text/plain": [
       "<Figure size 432x288 with 1 Axes>"
      ]
     },
     "metadata": {
      "needs_background": "light"
     },
     "output_type": "display_data"
    }
   ],
   "source": [
    "plot_trev(51,100,4)"
   ]
  },
  {
   "cell_type": "markdown",
   "metadata": {},
   "source": [
    "## Approximate entropy"
   ]
  },
  {
   "cell_type": "code",
   "execution_count": 294,
   "metadata": {},
   "outputs": [],
   "source": [
    "def plot_entropy(ticker,n,m):\n",
    "                df_test=df_close_full[ticker]\n",
    "                df_test=df_test.dropna()\n",
    "                L=[]\n",
    "                for i in range(len(df_test)):\n",
    "                    if i+256<len(df_test):\n",
    "                        L.append(df_test[i:i+256])  \n",
    "\n",
    "                y_range=[]\n",
    "                np.random.seed(42)\n",
    "\n",
    "                for i in range(n):\n",
    "\n",
    "                    # Get the Series\n",
    "                    series = L[i]\n",
    "                    arr=np.array(series)\n",
    "                    # Evaluate the function\n",
    "                    x=approximate_entropy(series, m,  0.2*arr.std())            \n",
    "                    y_range.append(x)\n",
    "\n",
    "                # Plot\n",
    "                f, ax = plt.subplots()\n",
    "                x_range=['ts'+str(i) for i in range(n)]\n",
    "                ax.scatter( x_range,y_range, color=\"purple\")\n",
    "                ax.set_xlabel('Series names')\n",
    "                ax.set_ylabel('Time reversal value')\n",
    "                ax.set_title('Time Reversal' +' '+ str(ticker))\n",
    "                \n",
    "                ax.set_xticks(ax.get_xticks()[::10])\n",
    "                plt.xticks(x_range[::10], rotation=45)\n",
    "                plt.savefig('ticker' + str(ticker)+ ' '+ 'Trev')\n",
    "                plt.show()"
   ]
  },
  {
   "cell_type": "code",
   "execution_count": 295,
   "metadata": {},
   "outputs": [
    {
     "data": {
      "image/png": "[encoded data removed]",
      "text/plain": [
       "<Figure size 432x288 with 1 Axes>"
      ]
     },
     "metadata": {
      "needs_background": "light"
     },
     "output_type": "display_data"
    }
   ],
   "source": [
    "plot_entropy(22,100,2)"
   ]
  },
  {
   "cell_type": "code",
   "execution_count": 296,
   "metadata": {},
   "outputs": [
    {
     "data": {
      "image/png": "[encoded data removed]",
      "text/plain": [
       "<Figure size 432x288 with 1 Axes>"
      ]
     },
     "metadata": {
      "needs_background": "light"
     },
     "output_type": "display_data"
    }
   ],
   "source": [
    "plot_entropy(23,100,2)"
   ]
  },
  {
   "cell_type": "code",
   "execution_count": 293,
   "metadata": {},
   "outputs": [
    {
     "data": {
      "image/png": "[encoded data removed]",
      "text/plain": [
       "<Figure size 432x288 with 1 Axes>"
      ]
     },
     "metadata": {
      "needs_background": "light"
     },
     "output_type": "display_data"
    }
   ],
   "source": [
    "# series = random_walk(99999, cumprod=True)\n",
    "list_random_walk=[]\n",
    "list_entropy_mb=[]\n",
    "np.random.seed(42)\n",
    "  \n",
    "\n",
    "for i in range(100):\n",
    "    \n",
    "    # create a random walk from random changes\n",
    "    series = random_walk(256, proba=0.5)\n",
    "    arr=np.array(series)\n",
    "    # Evaluate Hurst equation\n",
    "    H=approximate_entropy(series, 2, 0.2*arr.std())\n",
    "    list_entropy_mb.append(H)\n",
    "f, ax = plt.subplots()\n",
    "x_range=['ts'+str(i) for i in range(100)]\n",
    "ax.scatter( x_range,list_entropy_mb, color=\"purple\")\n",
    "ax.set_xlabel('Series names')\n",
    "ax.set_ylabel('Brownian motion')\n",
    "ax.set_title('Brownian Motion')\n",
    "\n",
    "ax.set_xticks(ax.get_xticks()[::10])\n",
    "plt.xticks(x_range[::10], rotation=45)\n",
    "plt.show()"
   ]
  },
  {
   "cell_type": "code",
   "execution_count": 271,
   "metadata": {},
   "outputs": [
    {
     "data": {
      "image/png": "[encoded data removed]",
      "text/plain": [
       "<Figure size 432x288 with 1 Axes>"
      ]
     },
     "metadata": {
      "needs_background": "light"
     },
     "output_type": "display_data"
    }
   ],
   "source": [
    "series = random_walk(256, proba=0.5)\n",
    "plt.plot(series)\n",
    "plt.title('Mouvement Brownien')\n",
    "plt.savefig('Mouvement Brownien')"
   ]
  },
  {
   "cell_type": "code",
   "execution_count": 272,
   "metadata": {},
   "outputs": [
    {
     "data": {
      "text/plain": [
       "0.25843752578538526"
      ]
     },
     "execution_count": 272,
     "metadata": {},
     "output_type": "execute_result"
    }
   ],
   "source": [
    "approximate_entropy(series, 2, 0.5)"
   ]
  },
  {
   "cell_type": "markdown",
   "metadata": {},
   "source": [
    "## C3 function"
   ]
  },
  {
   "cell_type": "code",
   "execution_count": 66,
   "metadata": {},
   "outputs": [],
   "source": [
    "def plot_c3(ticker,n,lag):\n",
    "                df_test=df_close_full[ticker]\n",
    "                df_test=df_test.dropna()\n",
    "                L=[]\n",
    "                for i in range(len(df_test)):\n",
    "                    if i+256<len(df_test):\n",
    "                        L.append(df_test[i:i+256])  \n",
    "\n",
    "                y_range=[]\n",
    "                np.random.seed(42)\n",
    "\n",
    "                for i in range(n):\n",
    "\n",
    "                    # Get the Series\n",
    "                    series = L[i]\n",
    "\n",
    "                    # Evaluate the function\n",
    "                    x=c3(series,lag)           \n",
    "                    y_range.append(x)\n",
    "\n",
    "                # Plot\n",
    "                f, ax = plt.subplots()\n",
    "                x_range=['ts'+str(i) for i in range(n)]\n",
    "                ax.scatter( x_range,y_range, color=\"purple\")\n",
    "                ax.set_xlabel('Series names')\n",
    "                ax.set_ylabel('Bicorrelation value')\n",
    "                ax.set_title('Ticker'+' '+str(ticker))\n",
    "                plt.savefig('C3 tiker' + str(ticker))\n",
    "                ax.set_xticks(ax.get_xticks()[::10])\n",
    "                plt.xticks(x_range[::10], rotation=45)\n",
    "                plt.savefig('ticker' + str(ticker)+ ' '+ 'Trev')\n",
    "                plt.show()"
   ]
  },
  {
   "cell_type": "code",
   "execution_count": 67,
   "metadata": {},
   "outputs": [
    {
     "data": {
      "image/png": "[encoded data removed]",
      "text/plain": [
       "<Figure size 432x288 with 1 Axes>"
      ]
     },
     "metadata": {
      "needs_background": "light"
     },
     "output_type": "display_data"
    }
   ],
   "source": [
    "plot_c3(22,100,4)"
   ]
  },
  {
   "cell_type": "code",
   "execution_count": 68,
   "metadata": {},
   "outputs": [
    {
     "data": {
      "image/png": "[encoded data removed]",
      "text/plain": [
       "<Figure size 432x288 with 1 Axes>"
      ]
     },
     "metadata": {
      "needs_background": "light"
     },
     "output_type": "display_data"
    }
   ],
   "source": [
    "plot_c3(23,100,4)"
   ]
  },
  {
   "cell_type": "code",
   "execution_count": 65,
   "metadata": {},
   "outputs": [
    {
     "data": {
      "image/png": "[encoded data removed]",
      "text/plain": [
       "<Figure size 432x288 with 1 Axes>"
      ]
     },
     "metadata": {
      "needs_background": "light"
     },
     "output_type": "display_data"
    }
   ],
   "source": [
    "# series = random_walk(99999, cumprod=True)\n",
    "list_random_walk=[]\n",
    "list_entropy_mb=[]\n",
    "np.random.seed(42)\n",
    "  \n",
    "\n",
    "for i in range(100):\n",
    "    \n",
    "    # create a random walk from random changes\n",
    "    series = random_walk(256, proba=0.5)\n",
    "    \n",
    "    # Evaluate Hurst equation\n",
    "    H=c3(series, 20)\n",
    "    list_entropy_mb.append(H)\n",
    "f, ax = plt.subplots()\n",
    "x_range=['ts'+str(i) for i in range(100)]\n",
    "ax.scatter( x_range,list_entropy_mb, color=\"purple\")\n",
    "ax.set_xlabel('Series names')\n",
    "ax.set_ylabel('Bicorrelation Value')\n",
    "ax.set_title('White Noise')\n",
    "plt.xticks(x_range[::10], rotation=18)\n",
    "plt.savefig('MB C3')\n",
    "plt.show()\n"
   ]
  },
  {
   "cell_type": "markdown",
   "metadata": {},
   "source": [
    "## Sample entropy"
   ]
  },
  {
   "cell_type": "code",
   "execution_count": 309,
   "metadata": {},
   "outputs": [],
   "source": [
    "def plot_sample_entropy(ticker,n):\n",
    "                df_test=df_close_full[ticker]\n",
    "                df_test=df_test.dropna()\n",
    "                L=[]\n",
    "                for i in range(len(df_test)):\n",
    "                    if i+256<len(df_test):\n",
    "                        L.append(df_test[i:i+256])  \n",
    "\n",
    "                y_range=[]\n",
    "                np.random.seed(42)\n",
    "\n",
    "                for i in range(n):\n",
    "\n",
    "                    # Get the Series\n",
    "                    series = L[i]\n",
    "\n",
    "                    # Evaluate the function\n",
    "                    x=sample_entropy(series)           \n",
    "                    y_range.append(x)\n",
    "\n",
    "                # Plot\n",
    "                f, ax = plt.subplots()\n",
    "                x_range=['ts'+str(i) for i in range(n)]\n",
    "                ax.scatter( x_range,y_range, color=\"purple\")\n",
    "                ax.set_xlabel('Series names')\n",
    "                ax.set_ylabel('Sample Entropy')\n",
    "                ax.set_title('Sample Entropy' +' '+ str(ticker))\n",
    "                \n",
    "                ax.set_xticks(ax.get_xticks()[::10])\n",
    "                plt.xticks(x_range[::10], rotation=45)\n",
    "                plt.savefig('ticker' + str(ticker)+ ' '+ 'Trev')\n",
    "                plt.show()"
   ]
  },
  {
   "cell_type": "code",
   "execution_count": 310,
   "metadata": {},
   "outputs": [
    {
     "data": {
      "image/png": "[encoded data removed]",
      "text/plain": [
       "<Figure size 432x288 with 1 Axes>"
      ]
     },
     "metadata": {
      "needs_background": "light"
     },
     "output_type": "display_data"
    }
   ],
   "source": [
    "plot_sample_entropy(22,100)"
   ]
  },
  {
   "cell_type": "code",
   "execution_count": 311,
   "metadata": {},
   "outputs": [
    {
     "data": {
      "image/png": "[encoded data removed]",
      "text/plain": [
       "<Figure size 432x288 with 1 Axes>"
      ]
     },
     "metadata": {
      "needs_background": "light"
     },
     "output_type": "display_data"
    }
   ],
   "source": [
    "plot_sample_entropy(23,100)"
   ]
  },
  {
   "cell_type": "code",
   "execution_count": 71,
   "metadata": {},
   "outputs": [
    {
     "data": {
      "image/png": "[encoded data removed]",
      "text/plain": [
       "<Figure size 432x288 with 1 Axes>"
      ]
     },
     "metadata": {
      "needs_background": "light"
     },
     "output_type": "display_data"
    }
   ],
   "source": [
    "# series = random_walk(99999, cumprod=True)\n",
    "list_random_walk=[]\n",
    "list_entropy_mb=[]\n",
    "np.random.seed(42)\n",
    "  \n",
    "\n",
    "for i in range(100):\n",
    "    \n",
    "    # create a random walk from random changes\n",
    "    series = random_walk(256, proba=0.5)\n",
    "    \n",
    "    # Evaluate Hurst equation\n",
    "    H=sample_entropy(series)\n",
    "    list_entropy_mb.append(H)\n",
    "f, ax = plt.subplots()\n",
    "x_range=['ts'+str(i) for i in range(100)]\n",
    "ax.scatter( x_range,list_entropy_mb, color=\"purple\")\n",
    "ax.set_xlabel('Series names')\n",
    "ax.set_ylabel('Sample Entropy')\n",
    "ax.set_title('Brownian Motion')\n",
    "plt.savefig('MB Sample entropy')\n",
    "ax.set_xticks(ax.get_xticks()[::10])\n",
    "plt.xticks(x_range[::10], rotation=45)\n",
    "plt.show()"
   ]
  },
  {
   "cell_type": "markdown",
   "metadata": {},
   "source": [
    "## Time reversal"
   ]
  },
  {
   "cell_type": "code",
   "execution_count": 47,
   "metadata": {},
   "outputs": [],
   "source": [
    "def plot_sample_entropy(ticker,n,lag):\n",
    "                df_test=df_close_full[ticker]\n",
    "                df_test=df_test.dropna()\n",
    "                L=[]\n",
    "                for i in range(len(df_test)):\n",
    "                    if i+256<len(df_test):\n",
    "                        L.append(df_test[i:i+256])  \n",
    "\n",
    "                y_range=[]\n",
    "                np.random.seed(42)\n",
    "\n",
    "                for i in range(n):\n",
    "\n",
    "                    # Get the Series\n",
    "                    series = L[i]\n",
    "\n",
    "                    # Evaluate the function\n",
    "                    x=time_reversal_asymmetry_statistic(series, lag)           \n",
    "                    y_range.append(x)\n",
    "\n",
    "                # Plot\n",
    "                f, ax = plt.subplots()\n",
    "                x_range=['ts'+str(i) for i in range(n)]\n",
    "                ax.scatter( x_range,y_range, color=\"purple\")\n",
    "                ax.set_xlabel('Series names')\n",
    "                ax.set_ylabel('Trev')\n",
    "                ax.set_title('Time Reversal invariance' +' '+ str(ticker))\n",
    "                \n",
    "                ax.set_xticks(ax.get_xticks()[::10])\n",
    "                plt.xticks(x_range[::10], rotation=45)\n",
    "                plt.savefig('ticker' + str(ticker)+ ' '+ 'Trev')\n",
    "                plt.show()"
   ]
  },
  {
   "cell_type": "code",
   "execution_count": 48,
   "metadata": {},
   "outputs": [
    {
     "data": {
      "image/png": "[encoded data removed]",
      "text/plain": [
       "<Figure size 432x288 with 1 Axes>"
      ]
     },
     "metadata": {
      "needs_background": "light"
     },
     "output_type": "display_data"
    }
   ],
   "source": [
    "plot_sample_entropy(22,25,4)"
   ]
  },
  {
   "cell_type": "code",
   "execution_count": 49,
   "metadata": {},
   "outputs": [
    {
     "data": {
      "image/png": "[encoded data removed]",
      "text/plain": [
       "<Figure size 432x288 with 1 Axes>"
      ]
     },
     "metadata": {
      "needs_background": "light"
     },
     "output_type": "display_data"
    }
   ],
   "source": [
    "plot_sample_entropy(23,25,4)"
   ]
  },
  {
   "cell_type": "code",
   "execution_count": 55,
   "metadata": {},
   "outputs": [
    {
     "data": {
      "image/png": "[encoded data removed]",
      "text/plain": [
       "<Figure size 432x288 with 1 Axes>"
      ]
     },
     "metadata": {
      "needs_background": "light"
     },
     "output_type": "display_data"
    }
   ],
   "source": [
    "# series = random_walk(99999, cumprod=True)\n",
    "list_random_walk=[]\n",
    "list_entropy_mb=[]\n",
    "np.random.seed(42)\n",
    "  \n",
    "\n",
    "for i in range(25):\n",
    "    \n",
    "    # create a random walk from random changes\n",
    "    series = random_walk(256, proba=0.5)\n",
    "    \n",
    "    # Evaluate Hurst equation\n",
    "    H=time_reversal_asymmetry_statistic(series, 4) \n",
    "    list_entropy_mb.append(H)\n",
    "f, ax = plt.subplots()\n",
    "x_range=['ts'+str(i) for i in range(25)]\n",
    "ax.scatter( x_range,list_entropy_mb, color=\"purple\")\n",
    "ax.set_xlabel('Series names')\n",
    "ax.set_ylabel('Trev')\n",
    "ax.set_title('Brownian Motion')\n",
    "plt.savefig('MB Time reverse invariance')\n",
    "ax.set_xticks(ax.get_xticks()[::10])\n",
    "plt.xticks(x_range[::10], rotation=45)\n",
    "plt.show()"
   ]
  },
  {
   "cell_type": "markdown",
   "metadata": {},
   "source": [
    "## Wavelets Plot"
   ]
  },
  {
   "cell_type": "code",
   "execution_count": 206,
   "metadata": {},
   "outputs": [],
   "source": [
    "def decomposite(signal, coef_type='d', wname='db1', level=1):\n",
    "    \"\"\"Decompose and plot a signal S.\n",
    "    S = An + Dn + Dn-1 + ... + D1\n",
    "    \"\"\"\n",
    "    w = pywt.Wavelet(wname)\n",
    "    a = signal\n",
    "    ca = []\n",
    "    cd = []\n",
    "    mode = pywt.Modes.smooth\n",
    "    for i in range(level):\n",
    "        (a, d) = pywt.dwt(a, w, mode)\n",
    "        ca.append(a)\n",
    "        cd.append(d)\n",
    "    rec_a = []\n",
    "    rec_d = []\n",
    "    for i, coeff in enumerate(ca):\n",
    "        coeff_list = [coeff, None] + [None] * i\n",
    "        rec_a.append(pywt.waverec(coeff_list, w))\n",
    "    for i, coeff in enumerate(cd):\n",
    "        coeff_list = [None, coeff] + [None] * i\n",
    "        rec_d.append(pywt.waverec(coeff_list, w))\n",
    "    if coef_type == 'd':\n",
    "        return rec_d\n",
    "    return rec_a\n"
   ]
  },
  {
   "cell_type": "code",
   "execution_count": 295,
   "metadata": {},
   "outputs": [],
   "source": [
    "def plot_wavelet(x):\n",
    "        \n",
    "        fig = plt.figure(1, figsize=(10, 8))\n",
    "        \n",
    "        coeff_a=decomposite(x, coef_type='a', wname='db1', level=1)[0]\n",
    "        coeff_d =decomposite(x, coef_type='d', wname='db1', level=1)[0]\n",
    "        \n",
    "        plt.subplot(211)\n",
    "        plt.plot(x,label='Original signal')      \n",
    "        plt.title('Original signal VS Decomposed signal (Ticker 22)')\n",
    "        plt.legend()  \n",
    "        \n",
    "        dfa = pd.DataFrame(data=coeff_a,index=a.index)\n",
    "        dfd = pd.DataFrame(data=coeff_d,index=a.index)\n",
    "        plt.subplot(212)\n",
    "        plt.plot(dfa,color='r',label='Approximation function')\n",
    "        plt.plot(dfd,color='b',label='Detail function')\n",
    "        plt.legend()"
   ]
  },
  {
   "cell_type": "code",
   "execution_count": 296,
   "metadata": {},
   "outputs": [
    {
     "data": {
      "image/png": "[encoded data removed]",
      "text/plain": [
       "<Figure size 720x576 with 2 Axes>"
      ]
     },
     "metadata": {
      "needs_background": "light"
     },
     "output_type": "display_data"
    }
   ],
   "source": [
    "plot_wavelet(a)"
   ]
  },
  {
   "cell_type": "code",
   "execution_count": 258,
   "metadata": {},
   "outputs": [],
   "source": [
    "coeff_a=decomposite(a, coef_type='a', wname='db1', level=1)[0]\n",
    "coeff_d =decomposite(a, coef_type='d', wname='db1', level=1)[0]"
   ]
  },
  {
   "cell_type": "code",
   "execution_count": 260,
   "metadata": {},
   "outputs": [],
   "source": [
    "reconstitued=coeff_a+coeff_d"
   ]
  },
  {
   "cell_type": "code",
   "execution_count": 265,
   "metadata": {},
   "outputs": [],
   "source": [
    "series = random_walk(256, proba=0.5)"
   ]
  },
  {
   "cell_type": "code",
   "execution_count": null,
   "metadata": {},
   "outputs": [],
   "source": []
  }
 ],
 "metadata": {
  "kernelspec": {
   "display_name": "Python 3",
   "language": "python",
   "name": "python3"
  },
  "language_info": {
   "codemirror_mode": {
    "name": "ipython",
    "version": 3
   },
   "file_extension": ".py",
   "mimetype": "text/x-python",
   "name": "python",
   "nbconvert_exporter": "python",
   "pygments_lexer": "ipython3",
   "version": "3.7.3"
  }
 },
 "nbformat": 4,
 "nbformat_minor": 2
}
